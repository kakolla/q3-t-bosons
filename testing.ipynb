{
 "cells": [
  {
   "cell_type": "code",
   "execution_count": 3,
   "id": "133fc32d",
   "metadata": {},
   "outputs": [],
   "source": [
    "import qiskit\n",
    "from qiskit import QuantumCircuit\n",
    "from qiskit.quantum_info import Statevector\n",
    "from qiskit.visualization import plot_state_qsphere\n",
    "from qiskit_aer import AerSimulator\n",
    "from qiskit_ibm_runtime import QiskitRuntimeService\n",
    "from qiskit_ibm_runtime import SamplerV2 as Sampler\n",
    "from qiskit.transpiler.preset_passmanagers import generate_preset_pass_manager\n",
    "from qiskit.transpiler import generate_preset_pass_manager\n",
    "from qiskit.visualization import array_to_latex\n",
    "from qiskit.visualization import plot_distribution\n",
    "from qiskit import transpile\n",
    "\n",
    "\n",
    "import numpy as np\n",
    "from numpy import sqrt"
   ]
  },
  {
   "cell_type": "code",
   "execution_count": 4,
   "id": "852a3da1",
   "metadata": {},
   "outputs": [],
   "source": [
    "!pip install --quiet qiskit qiskit-ibm-runtime qiskit-aer qiskit-optimization dotenv qiskit-algorithms"
   ]
  },
  {
   "cell_type": "code",
   "execution_count": 5,
   "id": "7ceaf870",
   "metadata": {},
   "outputs": [
    {
     "data": {
      "text/plain": [
       "'2.1.2'"
      ]
     },
     "execution_count": 5,
     "metadata": {},
     "output_type": "execute_result"
    }
   ],
   "source": [
    "qiskit.__version__"
   ]
  },
  {
   "cell_type": "code",
   "execution_count": 6,
   "id": "1ae16649",
   "metadata": {},
   "outputs": [],
   "source": [
    "from qiskit_ibm_runtime import QiskitRuntimeService\n",
    "\n",
    "# Save your API key and crn and have access to the quantum computers\n",
    "your_api_key = \"0OVe_qXjNb8l7DBhGIr5kZsnHslVTBZF0xkmpaK-EjGu\"\n",
    "your_crn = \"crn:v1:bluemix:public:quantum-computing:us-east:a/15524aa98e0a4443b31d10fcc66c85b7:2b6de007-6ec0-499d-b370-361e9f0b70c4::\"\n",
    "\n",
    "QiskitRuntimeService.save_account(\n",
    "    channel=\"ibm_cloud\",\n",
    "    token=your_api_key,\n",
    "    instance=your_crn,\n",
    "    overwrite=True\n",
    ")                            "
   ]
  },
  {
   "cell_type": "code",
   "execution_count": null,
   "id": "191fbe76",
   "metadata": {},
   "outputs": [
    {
     "name": "stdout",
     "output_type": "stream",
     "text": [
      "Quadratic Program:\n",
      "Problem name: Knapsack\n",
      "\n",
      "Maximize\n",
      "  0.01*x_0 + 0.02*x_1 + 0.03*x_2 + 0.04*x_3 + 0.05*x_4\n",
      "\n",
      "Subject to\n",
      "  Linear constraints (1)\n",
      "    0.04*x_0 + 0.05*x_1 + 0.06*x_2 + 0.07*x_3 + 0.08*x_4 <= 1  'c0'\n",
      "\n",
      "  Binary variables (5)\n",
      "    x_0 x_1 x_2 x_3 x_4\n",
      "\n"
     ]
    },
    {
     "ename": "QiskitOptimizationError",
     "evalue": "'Incompatible problem: Can not convert inequality constraints to equality constraint because                     float coefficients are in constraints. '",
     "output_type": "error",
     "traceback": [
      "\u001b[31m---------------------------------------------------------------------------\u001b[39m",
      "\u001b[31mQiskitOptimizationError\u001b[39m                   Traceback (most recent call last)",
      "\u001b[36mCell\u001b[39m\u001b[36m \u001b[39m\u001b[32mIn[17]\u001b[39m\u001b[32m, line 50\u001b[39m\n\u001b[32m     46\u001b[39m     \u001b[38;5;28mprint\u001b[39m(\u001b[33m\"\u001b[39m\u001b[33msolution:\u001b[39m\u001b[33m\"\u001b[39m, prob.interpret(result_qaoa))\n\u001b[32m     48\u001b[39m     \u001b[38;5;28;01mreturn\u001b[39;00m prob.interpret(result_qaoa)\n\u001b[32m---> \u001b[39m\u001b[32m50\u001b[39m \u001b[38;5;28mprint\u001b[39m(\u001b[33m\"\u001b[39m\u001b[33mFinal:\u001b[39m\u001b[33m\"\u001b[39m, \u001b[43mrun_knapsack\u001b[49m\u001b[43m(\u001b[49m\u001b[32;43m1\u001b[39;49m\u001b[43m,\u001b[49m\u001b[43m \u001b[49m\u001b[43m[\u001b[49m\u001b[32;43m0.01\u001b[39;49m\u001b[43m,\u001b[49m\u001b[32;43m0.02\u001b[39;49m\u001b[43m,\u001b[49m\u001b[32;43m0.03\u001b[39;49m\u001b[43m,\u001b[49m\u001b[32;43m0.04\u001b[39;49m\u001b[43m,\u001b[49m\u001b[32;43m0.05\u001b[39;49m\u001b[43m]\u001b[49m\u001b[43m,\u001b[49m\u001b[43m \u001b[49m\u001b[43m[\u001b[49m\u001b[32;43m0.04\u001b[39;49m\u001b[43m,\u001b[49m\u001b[32;43m0.05\u001b[39;49m\u001b[43m,\u001b[49m\u001b[32;43m0.06\u001b[39;49m\u001b[43m,\u001b[49m\u001b[32;43m0.07\u001b[39;49m\u001b[43m,\u001b[49m\u001b[32;43m0.08\u001b[39;49m\u001b[43m]\u001b[49m\u001b[43m,\u001b[49m\u001b[43m \u001b[49m\u001b[43mbackend_name\u001b[49m\u001b[43m=\u001b[49m\u001b[33;43m\"\u001b[39;49m\u001b[33;43mibm_torino\u001b[39;49m\u001b[33;43m\"\u001b[39;49m\u001b[43m)\u001b[49m)\n",
      "\u001b[36mCell\u001b[39m\u001b[36m \u001b[39m\u001b[32mIn[17]\u001b[39m\u001b[32m, line 18\u001b[39m, in \u001b[36mrun_knapsack\u001b[39m\u001b[34m(budget, impact, costs, backend_name)\u001b[39m\n\u001b[32m     16\u001b[39m \u001b[38;5;66;03m# --- Classical baseline ---\u001b[39;00m\n\u001b[32m     17\u001b[39m meo_classical = MinimumEigenOptimizer(min_eigen_solver=NumPyMinimumEigensolver())\n\u001b[32m---> \u001b[39m\u001b[32m18\u001b[39m result_classical = \u001b[43mmeo_classical\u001b[49m\u001b[43m.\u001b[49m\u001b[43msolve\u001b[49m\u001b[43m(\u001b[49m\u001b[43mqp\u001b[49m\u001b[43m)\u001b[49m\n\u001b[32m     19\u001b[39m \u001b[38;5;28mprint\u001b[39m(\u001b[33m\"\u001b[39m\u001b[38;5;130;01m\\n\u001b[39;00m\u001b[33mClassical (NumPyMinimumEigensolver):\u001b[39m\u001b[33m\"\u001b[39m)\n\u001b[32m     20\u001b[39m \u001b[38;5;28mprint\u001b[39m(result_classical.prettyprint())\n",
      "\u001b[36mFile \u001b[39m\u001b[32mc:\\Users\\tayin\\.conda\\envs\\cwq\\Lib\\site-packages\\qiskit_optimization\\algorithms\\minimum_eigen_optimizer.py:196\u001b[39m, in \u001b[36mMinimumEigenOptimizer.solve\u001b[39m\u001b[34m(self, problem)\u001b[39m\n\u001b[32m    182\u001b[39m \u001b[38;5;28;01mdef\u001b[39;00m\u001b[38;5;250m \u001b[39m\u001b[34msolve\u001b[39m(\u001b[38;5;28mself\u001b[39m, problem: QuadraticProgram) -> MinimumEigenOptimizationResult:\n\u001b[32m    183\u001b[39m \u001b[38;5;250m    \u001b[39m\u001b[33;03m\"\"\"Tries to solves the given problem using the optimizer.\u001b[39;00m\n\u001b[32m    184\u001b[39m \n\u001b[32m    185\u001b[39m \u001b[33;03m    Runs the optimizer to try to solve the optimization problem.\u001b[39;00m\n\u001b[32m   (...)\u001b[39m\u001b[32m    194\u001b[39m \u001b[33;03m        QiskitOptimizationError: If problem not compatible.\u001b[39;00m\n\u001b[32m    195\u001b[39m \u001b[33;03m    \"\"\"\u001b[39;00m\n\u001b[32m--> \u001b[39m\u001b[32m196\u001b[39m     \u001b[38;5;28;43mself\u001b[39;49m\u001b[43m.\u001b[49m\u001b[43m_verify_compatibility\u001b[49m\u001b[43m(\u001b[49m\u001b[43mproblem\u001b[49m\u001b[43m)\u001b[49m\n\u001b[32m    198\u001b[39m     \u001b[38;5;66;03m# convert problem to QUBO minimization problem\u001b[39;00m\n\u001b[32m    199\u001b[39m     problem_ = \u001b[38;5;28mself\u001b[39m._convert(problem, \u001b[38;5;28mself\u001b[39m._converters)\n",
      "\u001b[36mFile \u001b[39m\u001b[32mc:\\Users\\tayin\\.conda\\envs\\cwq\\Lib\\site-packages\\qiskit_optimization\\algorithms\\optimization_algorithm.py:357\u001b[39m, in \u001b[36mOptimizationAlgorithm._verify_compatibility\u001b[39m\u001b[34m(self, problem)\u001b[39m\n\u001b[32m    355\u001b[39m msg = \u001b[38;5;28mself\u001b[39m.get_compatibility_msg(problem)\n\u001b[32m    356\u001b[39m \u001b[38;5;28;01mif\u001b[39;00m msg:\n\u001b[32m--> \u001b[39m\u001b[32m357\u001b[39m     \u001b[38;5;28;01mraise\u001b[39;00m QiskitOptimizationError(\u001b[33mf\u001b[39m\u001b[33m\"\u001b[39m\u001b[33mIncompatible problem: \u001b[39m\u001b[38;5;132;01m{\u001b[39;00mmsg\u001b[38;5;132;01m}\u001b[39;00m\u001b[33m\"\u001b[39m)\n",
      "\u001b[31mQiskitOptimizationError\u001b[39m: 'Incompatible problem: Can not convert inequality constraints to equality constraint because                     float coefficients are in constraints. '"
     ]
    }
   ],
   "source": [
    "def run_knapsack(budget: int, impact: list[int], costs: list[int], backend_name: str = \"aer\") -> list[int]:\n",
    "    \"\"\"\n",
    "    Solve knapsack with QAOA or classical solver.\n",
    "    \"\"\"\n",
    "    from qiskit_optimization.applications import Knapsack\n",
    "    from qiskit_optimization.algorithms import MinimumEigenOptimizer\n",
    "    from qiskit_optimization.minimum_eigensolvers import QAOA, NumPyMinimumEigensolver\n",
    "    from qiskit_algorithms.optimizers import COBYLA\n",
    "\n",
    "    # --- Build problem ---\n",
    "    prob = Knapsack(values=impact, weights=costs, max_weight=budget)\n",
    "    qp = prob.to_quadratic_program()\n",
    "    print(\"Quadratic Program:\")\n",
    "    print(qp.prettyprint())\n",
    "\n",
    "    # --- Classical baseline ---\n",
    "    meo_classical = MinimumEigenOptimizer(min_eigen_solver=NumPyMinimumEigensolver())\n",
    "    result_classical = meo_classical.solve(qp)\n",
    "    print(\"\\nClassical (NumPyMinimumEigensolver):\")\n",
    "    print(result_classical.prettyprint())\n",
    "    print(\"solution:\", prob.interpret(result_classical))\n",
    "\n",
    "    # --- Choose sampler ---\n",
    "    if backend_name == \"aer\":\n",
    "        from qiskit_aer.primitives import Sampler\n",
    "        sampler = Sampler()\n",
    "    else:\n",
    "        from qiskit_ibm_runtime import QiskitRuntimeService, SamplerV2 as Sampler\n",
    "        service = QiskitRuntimeService()\n",
    "        backend = service.backend(backend_name)\n",
    "        sampler = Sampler(mode=backend)\n",
    "\n",
    "    # --- Quantum QAOA ---\n",
    "    #qaoa = QAOA(sampler=sampler, optimizer=COBYLA(maxiter=100), reps=1)\n",
    "    #ansatz=qaoa.ansatz\n",
    "    #pm = transpile(ansatz, backend=backend)\n",
    "    qaoa = QAOA(sampler=sampler, optimizer=COBYLA(maxiter=100), reps=1)\n",
    "    meo_qaoa = MinimumEigenOptimizer(qaoa)\n",
    "    #qaoa.ansatz = pm.run(ansatz)\n",
    "    #meo_qaoa = MinimumEigenOptimizer(pm)\n",
    "    #print(meo_qaoa)\n",
    "    result_qaoa = meo_qaoa.solve(qp)\n",
    "    print(result_qaoa)\n",
    "    print(f\"\\nQuantum (QAOA on {backend_name}):\")\n",
    "    print(result_qaoa.prettyprint())\n",
    "    print(\"solution:\", prob.interpret(result_qaoa))\n",
    "\n",
    "    return prob.interpret(result_qaoa)\n",
    "\n",
    "print(\"Final:\", run_knapsack(10, [1,2,3,4,5], [4,5,6,7,8], backend_name=\"ibm_torino\"))"
   ]
  },
  {
   "cell_type": "code",
   "execution_count": 18,
   "id": "f834df6c",
   "metadata": {},
   "outputs": [
    {
     "name": "stdout",
     "output_type": "stream",
     "text": [
      "Original impacts: [1, 2, 3, 4, 5]\n",
      "Scaled impacts: [0.2, 0.4, 0.6, 0.8, 1.0]\n",
      "Quadratic Program:\n",
      "Problem name: Knapsack\n",
      "\n",
      "Maximize\n",
      "  0.2*x_0 + 0.4*x_1 + 0.6*x_2 + 0.8*x_3 + x_4\n",
      "\n",
      "Subject to\n",
      "  Linear constraints (1)\n",
      "    4*x_0 + 5*x_1 + 6*x_2 + 7*x_3 + 8*x_4 <= 10  'c0'\n",
      "\n",
      "  Binary variables (5)\n",
      "    x_0 x_1 x_2 x_3 x_4\n",
      "\n",
      "\n",
      "Classical (NumPyMinimumEigensolver):\n",
      "objective function value: 1.0\n",
      "variable values: x_0=0.0, x_1=0.0, x_2=0.0, x_3=0.0, x_4=1.0\n",
      "status: SUCCESS\n",
      "solution: [4]\n"
     ]
    },
    {
     "name": "stderr",
     "output_type": "stream",
     "text": [
      "c:\\Users\\tayin\\.conda\\envs\\cwq\\Lib\\site-packages\\qiskit_optimization\\minimum_eigensolvers\\qaoa.py:122: UserWarning: Using Sampler V2 (other than StatevectorSampler) without a pass_manager may result in an error. Consider providing a pass_manager for proper circuit transpilation.\n",
      "  super().__init__(\n"
     ]
    },
    {
     "ename": "IBMInputValueError",
     "evalue": "'The instruction rzz is supported only for angles in the range [0, pi/2], but an angle (-366.491965661209) outside of this range has been requested; via parameter value(s) γ[0]=-2.8632184817281954, substituted in parameter expression 128*γ[0].'",
     "output_type": "error",
     "traceback": [
      "\u001b[31m---------------------------------------------------------------------------\u001b[39m",
      "\u001b[31mIBMInputValueError\u001b[39m                        Traceback (most recent call last)",
      "\u001b[36mCell\u001b[39m\u001b[36m \u001b[39m\u001b[32mIn[18]\u001b[39m\u001b[32m, line 51\u001b[39m\n\u001b[32m     47\u001b[39m     \u001b[38;5;28mprint\u001b[39m(\u001b[33m\"\u001b[39m\u001b[33msolution:\u001b[39m\u001b[33m\"\u001b[39m, prob.interpret(result_qaoa))\n\u001b[32m     49\u001b[39m     \u001b[38;5;28;01mreturn\u001b[39;00m prob.interpret(result_qaoa)\n\u001b[32m---> \u001b[39m\u001b[32m51\u001b[39m \u001b[38;5;28mprint\u001b[39m(\u001b[33m\"\u001b[39m\u001b[33mFinal:\u001b[39m\u001b[33m\"\u001b[39m, \u001b[43mrun_knapsack\u001b[49m\u001b[43m(\u001b[49m\u001b[32;43m10\u001b[39;49m\u001b[43m,\u001b[49m\u001b[43m \u001b[49m\u001b[43m[\u001b[49m\u001b[32;43m1\u001b[39;49m\u001b[43m,\u001b[49m\u001b[32;43m2\u001b[39;49m\u001b[43m,\u001b[49m\u001b[32;43m3\u001b[39;49m\u001b[43m,\u001b[49m\u001b[32;43m4\u001b[39;49m\u001b[43m,\u001b[49m\u001b[32;43m5\u001b[39;49m\u001b[43m]\u001b[49m\u001b[43m,\u001b[49m\u001b[43m \u001b[49m\u001b[43m[\u001b[49m\u001b[32;43m4\u001b[39;49m\u001b[43m,\u001b[49m\u001b[32;43m5\u001b[39;49m\u001b[43m,\u001b[49m\u001b[32;43m6\u001b[39;49m\u001b[43m,\u001b[49m\u001b[32;43m7\u001b[39;49m\u001b[43m,\u001b[49m\u001b[32;43m8\u001b[39;49m\u001b[43m]\u001b[49m\u001b[43m,\u001b[49m\u001b[43m \u001b[49m\u001b[43mbackend_name\u001b[49m\u001b[43m=\u001b[49m\u001b[33;43m\"\u001b[39;49m\u001b[33;43mibm_torino\u001b[39;49m\u001b[33;43m\"\u001b[39;49m\u001b[43m)\u001b[49m)\n",
      "\u001b[36mCell\u001b[39m\u001b[36m \u001b[39m\u001b[32mIn[18]\u001b[39m\u001b[32m, line 43\u001b[39m, in \u001b[36mrun_knapsack\u001b[39m\u001b[34m(budget, impact, costs, backend_name)\u001b[39m\n\u001b[32m     41\u001b[39m qaoa = QAOA(sampler=sampler, optimizer=COBYLA(maxiter=\u001b[32m100\u001b[39m), reps=\u001b[32m1\u001b[39m)\n\u001b[32m     42\u001b[39m meo_qaoa = MinimumEigenOptimizer(qaoa)\n\u001b[32m---> \u001b[39m\u001b[32m43\u001b[39m result_qaoa = \u001b[43mmeo_qaoa\u001b[49m\u001b[43m.\u001b[49m\u001b[43msolve\u001b[49m\u001b[43m(\u001b[49m\u001b[43mqp\u001b[49m\u001b[43m)\u001b[49m\n\u001b[32m     44\u001b[39m \u001b[38;5;28mprint\u001b[39m(result_qaoa)\n\u001b[32m     45\u001b[39m \u001b[38;5;28mprint\u001b[39m(\u001b[33mf\u001b[39m\u001b[33m\"\u001b[39m\u001b[38;5;130;01m\\n\u001b[39;00m\u001b[33mQuantum (QAOA on \u001b[39m\u001b[38;5;132;01m{\u001b[39;00mbackend_name\u001b[38;5;132;01m}\u001b[39;00m\u001b[33m):\u001b[39m\u001b[33m\"\u001b[39m)\n",
      "\u001b[36mFile \u001b[39m\u001b[32mc:\\Users\\tayin\\.conda\\envs\\cwq\\Lib\\site-packages\\qiskit_optimization\\algorithms\\minimum_eigen_optimizer.py:204\u001b[39m, in \u001b[36mMinimumEigenOptimizer.solve\u001b[39m\u001b[34m(self, problem)\u001b[39m\n\u001b[32m    201\u001b[39m \u001b[38;5;66;03m# construct operator and offset\u001b[39;00m\n\u001b[32m    202\u001b[39m operator, offset = problem_.to_ising()\n\u001b[32m--> \u001b[39m\u001b[32m204\u001b[39m \u001b[38;5;28;01mreturn\u001b[39;00m \u001b[38;5;28;43mself\u001b[39;49m\u001b[43m.\u001b[49m\u001b[43m_solve_internal\u001b[49m\u001b[43m(\u001b[49m\u001b[43moperator\u001b[49m\u001b[43m,\u001b[49m\u001b[43m \u001b[49m\u001b[43moffset\u001b[49m\u001b[43m,\u001b[49m\u001b[43m \u001b[49m\u001b[43mproblem_\u001b[49m\u001b[43m,\u001b[49m\u001b[43m \u001b[49m\u001b[43mproblem\u001b[49m\u001b[43m)\u001b[49m\n",
      "\u001b[36mFile \u001b[39m\u001b[32mc:\\Users\\tayin\\.conda\\envs\\cwq\\Lib\\site-packages\\qiskit_optimization\\algorithms\\minimum_eigen_optimizer.py:217\u001b[39m, in \u001b[36mMinimumEigenOptimizer._solve_internal\u001b[39m\u001b[34m(self, operator, offset, converted_problem, original_problem)\u001b[39m\n\u001b[32m    214\u001b[39m eigen_result: MinimumEigensolverResult | \u001b[38;5;28;01mNone\u001b[39;00m = \u001b[38;5;28;01mNone\u001b[39;00m\n\u001b[32m    215\u001b[39m \u001b[38;5;28;01mif\u001b[39;00m operator.num_qubits > \u001b[32m0\u001b[39m:\n\u001b[32m    216\u001b[39m     \u001b[38;5;66;03m# approximate ground state of operator using min eigen solver\u001b[39;00m\n\u001b[32m--> \u001b[39m\u001b[32m217\u001b[39m     eigen_result = \u001b[38;5;28;43mself\u001b[39;49m\u001b[43m.\u001b[49m\u001b[43m_min_eigen_solver\u001b[49m\u001b[43m.\u001b[49m\u001b[43mcompute_minimum_eigenvalue\u001b[49m\u001b[43m(\u001b[49m\u001b[43moperator\u001b[49m\u001b[43m)\u001b[49m\n\u001b[32m    218\u001b[39m     \u001b[38;5;66;03m# analyze results\u001b[39;00m\n\u001b[32m    219\u001b[39m     raw_samples = \u001b[38;5;28;01mNone\u001b[39;00m\n",
      "\u001b[36mFile \u001b[39m\u001b[32mc:\\Users\\tayin\\.conda\\envs\\cwq\\Lib\\site-packages\\qiskit_optimization\\minimum_eigensolvers\\sampling_vqe.py:250\u001b[39m, in \u001b[36mSamplingVQE.compute_minimum_eigenvalue\u001b[39m\u001b[34m(self, operator, aux_operators)\u001b[39m\n\u001b[32m    245\u001b[39m \u001b[38;5;28;01melse\u001b[39;00m:\n\u001b[32m    246\u001b[39m     \u001b[38;5;66;03m# we always want to submit as many estimations per job as possible for minimal\u001b[39;00m\n\u001b[32m    247\u001b[39m     \u001b[38;5;66;03m# overhead on the hardware\u001b[39;00m\n\u001b[32m    248\u001b[39m     was_updated = _set_default_batchsize(\u001b[38;5;28mself\u001b[39m.optimizer)\n\u001b[32m--> \u001b[39m\u001b[32m250\u001b[39m     optimizer_result = \u001b[38;5;28;43mself\u001b[39;49m\u001b[43m.\u001b[49m\u001b[43moptimizer\u001b[49m\u001b[43m.\u001b[49m\u001b[43mminimize\u001b[49m\u001b[43m(\u001b[49m\n\u001b[32m    251\u001b[39m \u001b[43m        \u001b[49m\u001b[43mfun\u001b[49m\u001b[43m=\u001b[49m\u001b[43mevaluate_energy\u001b[49m\u001b[43m,\u001b[49m\u001b[43m  \u001b[49m\u001b[38;5;66;43;03m# type: ignore[arg-type]\u001b[39;49;00m\n\u001b[32m    252\u001b[39m \u001b[43m        \u001b[49m\u001b[43mx0\u001b[49m\u001b[43m=\u001b[49m\u001b[43minitial_point\u001b[49m\u001b[43m,\u001b[49m\n\u001b[32m    253\u001b[39m \u001b[43m        \u001b[49m\u001b[43mbounds\u001b[49m\u001b[43m=\u001b[49m\u001b[43mbounds\u001b[49m\u001b[43m,\u001b[49m\n\u001b[32m    254\u001b[39m \u001b[43m    \u001b[49m\u001b[43m)\u001b[49m\n\u001b[32m    256\u001b[39m     \u001b[38;5;66;03m# reset to original value\u001b[39;00m\n\u001b[32m    257\u001b[39m     \u001b[38;5;28;01mif\u001b[39;00m was_updated:\n",
      "\u001b[36mFile \u001b[39m\u001b[32mc:\\Users\\tayin\\.conda\\envs\\cwq\\Lib\\site-packages\\qiskit_algorithms\\optimizers\\scipy_optimizer.py:162\u001b[39m, in \u001b[36mSciPyOptimizer.minimize\u001b[39m\u001b[34m(self, fun, x0, jac, bounds)\u001b[39m\n\u001b[32m    159\u001b[39m     swapped_deprecated_args = \u001b[38;5;28;01mTrue\u001b[39;00m\n\u001b[32m    160\u001b[39m     \u001b[38;5;28mself\u001b[39m._options[\u001b[33m\"\u001b[39m\u001b[33mmaxfun\u001b[39m\u001b[33m\"\u001b[39m] = \u001b[38;5;28mself\u001b[39m._options.pop(\u001b[33m\"\u001b[39m\u001b[33mmaxiter\u001b[39m\u001b[33m\"\u001b[39m)\n\u001b[32m--> \u001b[39m\u001b[32m162\u001b[39m raw_result = \u001b[43mminimize\u001b[49m\u001b[43m(\u001b[49m\n\u001b[32m    163\u001b[39m \u001b[43m    \u001b[49m\u001b[43mfun\u001b[49m\u001b[43m=\u001b[49m\u001b[43mfun\u001b[49m\u001b[43m,\u001b[49m\n\u001b[32m    164\u001b[39m \u001b[43m    \u001b[49m\u001b[43mx0\u001b[49m\u001b[43m=\u001b[49m\u001b[43mx0\u001b[49m\u001b[43m,\u001b[49m\n\u001b[32m    165\u001b[39m \u001b[43m    \u001b[49m\u001b[43mmethod\u001b[49m\u001b[43m=\u001b[49m\u001b[38;5;28;43mself\u001b[39;49m\u001b[43m.\u001b[49m\u001b[43m_method\u001b[49m\u001b[43m,\u001b[49m\n\u001b[32m    166\u001b[39m \u001b[43m    \u001b[49m\u001b[43mjac\u001b[49m\u001b[43m=\u001b[49m\u001b[43mjac\u001b[49m\u001b[43m,\u001b[49m\n\u001b[32m    167\u001b[39m \u001b[43m    \u001b[49m\u001b[43mbounds\u001b[49m\u001b[43m=\u001b[49m\u001b[43mbounds\u001b[49m\u001b[43m,\u001b[49m\n\u001b[32m    168\u001b[39m \u001b[43m    \u001b[49m\u001b[43moptions\u001b[49m\u001b[43m=\u001b[49m\u001b[38;5;28;43mself\u001b[39;49m\u001b[43m.\u001b[49m\u001b[43m_options\u001b[49m\u001b[43m,\u001b[49m\n\u001b[32m    169\u001b[39m \u001b[43m    \u001b[49m\u001b[43m*\u001b[49m\u001b[43m*\u001b[49m\u001b[38;5;28;43mself\u001b[39;49m\u001b[43m.\u001b[49m\u001b[43m_kwargs\u001b[49m\u001b[43m,\u001b[49m\n\u001b[32m    170\u001b[39m \u001b[43m\u001b[49m\u001b[43m)\u001b[49m\n\u001b[32m    171\u001b[39m \u001b[38;5;28;01mif\u001b[39;00m swapped_deprecated_args:\n\u001b[32m    172\u001b[39m     \u001b[38;5;28mself\u001b[39m._options[\u001b[33m\"\u001b[39m\u001b[33mmaxiter\u001b[39m\u001b[33m\"\u001b[39m] = \u001b[38;5;28mself\u001b[39m._options.pop(\u001b[33m\"\u001b[39m\u001b[33mmaxfun\u001b[39m\u001b[33m\"\u001b[39m)\n",
      "\u001b[36mFile \u001b[39m\u001b[32m~\\AppData\\Roaming\\Python\\Python313\\site-packages\\scipy\\optimize\\_minimize.py:744\u001b[39m, in \u001b[36mminimize\u001b[39m\u001b[34m(fun, x0, args, method, jac, hess, hessp, bounds, constraints, tol, callback, options)\u001b[39m\n\u001b[32m    741\u001b[39m     res = _minimize_tnc(fun, x0, args, jac, bounds, callback=callback,\n\u001b[32m    742\u001b[39m                         **options)\n\u001b[32m    743\u001b[39m \u001b[38;5;28;01melif\u001b[39;00m meth == \u001b[33m'\u001b[39m\u001b[33mcobyla\u001b[39m\u001b[33m'\u001b[39m:\n\u001b[32m--> \u001b[39m\u001b[32m744\u001b[39m     res = \u001b[43m_minimize_cobyla\u001b[49m\u001b[43m(\u001b[49m\u001b[43mfun\u001b[49m\u001b[43m,\u001b[49m\u001b[43m \u001b[49m\u001b[43mx0\u001b[49m\u001b[43m,\u001b[49m\u001b[43m \u001b[49m\u001b[43margs\u001b[49m\u001b[43m,\u001b[49m\u001b[43m \u001b[49m\u001b[43mconstraints\u001b[49m\u001b[43m,\u001b[49m\u001b[43m \u001b[49m\u001b[43mcallback\u001b[49m\u001b[43m=\u001b[49m\u001b[43mcallback\u001b[49m\u001b[43m,\u001b[49m\n\u001b[32m    745\u001b[39m \u001b[43m                           \u001b[49m\u001b[43mbounds\u001b[49m\u001b[43m=\u001b[49m\u001b[43mbounds\u001b[49m\u001b[43m,\u001b[49m\u001b[43m \u001b[49m\u001b[43m*\u001b[49m\u001b[43m*\u001b[49m\u001b[43moptions\u001b[49m\u001b[43m)\u001b[49m\n\u001b[32m    746\u001b[39m \u001b[38;5;28;01melif\u001b[39;00m meth == \u001b[33m'\u001b[39m\u001b[33mcobyqa\u001b[39m\u001b[33m'\u001b[39m:\n\u001b[32m    747\u001b[39m     res = _minimize_cobyqa(fun, x0, args, bounds, constraints, callback,\n\u001b[32m    748\u001b[39m                            **options)\n",
      "\u001b[36mFile \u001b[39m\u001b[32m~\\AppData\\Roaming\\Python\\Python313\\site-packages\\scipy\\optimize\\_cobyla_py.py:35\u001b[39m, in \u001b[36msynchronized.<locals>.wrapper\u001b[39m\u001b[34m(*args, **kwargs)\u001b[39m\n\u001b[32m     32\u001b[39m \u001b[38;5;129m@functools\u001b[39m.wraps(func)\n\u001b[32m     33\u001b[39m \u001b[38;5;28;01mdef\u001b[39;00m\u001b[38;5;250m \u001b[39m\u001b[34mwrapper\u001b[39m(*args, **kwargs):\n\u001b[32m     34\u001b[39m     \u001b[38;5;28;01mwith\u001b[39;00m _module_lock:\n\u001b[32m---> \u001b[39m\u001b[32m35\u001b[39m         \u001b[38;5;28;01mreturn\u001b[39;00m \u001b[43mfunc\u001b[49m\u001b[43m(\u001b[49m\u001b[43m*\u001b[49m\u001b[43margs\u001b[49m\u001b[43m,\u001b[49m\u001b[43m \u001b[49m\u001b[43m*\u001b[49m\u001b[43m*\u001b[49m\u001b[43mkwargs\u001b[49m\u001b[43m)\u001b[49m\n",
      "\u001b[36mFile \u001b[39m\u001b[32m~\\AppData\\Roaming\\Python\\Python313\\site-packages\\scipy\\optimize\\_cobyla_py.py:278\u001b[39m, in \u001b[36m_minimize_cobyla\u001b[39m\u001b[34m(fun, x0, args, constraints, rhobeg, tol, maxiter, disp, catol, callback, bounds, **unknown_options)\u001b[39m\n\u001b[32m    275\u001b[39m \u001b[38;5;28;01mdef\u001b[39;00m\u001b[38;5;250m \u001b[39m\u001b[34m_jac\u001b[39m(x, *args):\n\u001b[32m    276\u001b[39m     \u001b[38;5;28;01mreturn\u001b[39;00m \u001b[38;5;28;01mNone\u001b[39;00m\n\u001b[32m--> \u001b[39m\u001b[32m278\u001b[39m sf = \u001b[43m_prepare_scalar_function\u001b[49m\u001b[43m(\u001b[49m\u001b[43mfun\u001b[49m\u001b[43m,\u001b[49m\u001b[43m \u001b[49m\u001b[43mx0\u001b[49m\u001b[43m,\u001b[49m\u001b[43m \u001b[49m\u001b[43margs\u001b[49m\u001b[43m=\u001b[49m\u001b[43margs\u001b[49m\u001b[43m,\u001b[49m\u001b[43m \u001b[49m\u001b[43mjac\u001b[49m\u001b[43m=\u001b[49m\u001b[43m_jac\u001b[49m\u001b[43m)\u001b[49m\n\u001b[32m    280\u001b[39m \u001b[38;5;28;01mdef\u001b[39;00m\u001b[38;5;250m \u001b[39m\u001b[34mcalcfc\u001b[39m(x, con):\n\u001b[32m    281\u001b[39m     f = sf.fun(x)\n",
      "\u001b[36mFile \u001b[39m\u001b[32m~\\AppData\\Roaming\\Python\\Python313\\site-packages\\scipy\\optimize\\_optimize.py:291\u001b[39m, in \u001b[36m_prepare_scalar_function\u001b[39m\u001b[34m(fun, x0, jac, args, bounds, epsilon, finite_diff_rel_step, hess)\u001b[39m\n\u001b[32m    287\u001b[39m     bounds = (-np.inf, np.inf)\n\u001b[32m    289\u001b[39m \u001b[38;5;66;03m# ScalarFunction caches. Reuse of fun(x) during grad\u001b[39;00m\n\u001b[32m    290\u001b[39m \u001b[38;5;66;03m# calculation reduces overall function evaluations.\u001b[39;00m\n\u001b[32m--> \u001b[39m\u001b[32m291\u001b[39m sf = \u001b[43mScalarFunction\u001b[49m\u001b[43m(\u001b[49m\u001b[43mfun\u001b[49m\u001b[43m,\u001b[49m\u001b[43m \u001b[49m\u001b[43mx0\u001b[49m\u001b[43m,\u001b[49m\u001b[43m \u001b[49m\u001b[43margs\u001b[49m\u001b[43m,\u001b[49m\u001b[43m \u001b[49m\u001b[43mgrad\u001b[49m\u001b[43m,\u001b[49m\u001b[43m \u001b[49m\u001b[43mhess\u001b[49m\u001b[43m,\u001b[49m\n\u001b[32m    292\u001b[39m \u001b[43m                    \u001b[49m\u001b[43mfinite_diff_rel_step\u001b[49m\u001b[43m,\u001b[49m\u001b[43m \u001b[49m\u001b[43mbounds\u001b[49m\u001b[43m,\u001b[49m\u001b[43m \u001b[49m\u001b[43mepsilon\u001b[49m\u001b[43m=\u001b[49m\u001b[43mepsilon\u001b[49m\u001b[43m)\u001b[49m\n\u001b[32m    294\u001b[39m \u001b[38;5;28;01mreturn\u001b[39;00m sf\n",
      "\u001b[36mFile \u001b[39m\u001b[32m~\\AppData\\Roaming\\Python\\Python313\\site-packages\\scipy\\optimize\\_differentiable_functions.py:223\u001b[39m, in \u001b[36mScalarFunction.__init__\u001b[39m\u001b[34m(self, fun, x0, args, grad, hess, finite_diff_rel_step, finite_diff_bounds, epsilon)\u001b[39m\n\u001b[32m    220\u001b[39m     finite_diff_options[\u001b[33m\"\u001b[39m\u001b[33mas_linear_operator\u001b[39m\u001b[33m\"\u001b[39m] = \u001b[38;5;28;01mTrue\u001b[39;00m\n\u001b[32m    222\u001b[39m \u001b[38;5;66;03m# Initial function evaluation\u001b[39;00m\n\u001b[32m--> \u001b[39m\u001b[32m223\u001b[39m \u001b[38;5;28;43mself\u001b[39;49m\u001b[43m.\u001b[49m\u001b[43m_update_fun\u001b[49m\u001b[43m(\u001b[49m\u001b[43m)\u001b[49m\n\u001b[32m    225\u001b[39m \u001b[38;5;66;03m# Initial gradient evaluation\u001b[39;00m\n\u001b[32m    226\u001b[39m \u001b[38;5;28mself\u001b[39m._wrapped_grad, \u001b[38;5;28mself\u001b[39m._ngev = _wrapper_grad(\n\u001b[32m    227\u001b[39m     grad,\n\u001b[32m    228\u001b[39m     fun=\u001b[38;5;28mself\u001b[39m._wrapped_fun,\n\u001b[32m    229\u001b[39m     args=args,\n\u001b[32m    230\u001b[39m     finite_diff_options=finite_diff_options\n\u001b[32m    231\u001b[39m )\n",
      "\u001b[36mFile \u001b[39m\u001b[32m~\\AppData\\Roaming\\Python\\Python313\\site-packages\\scipy\\optimize\\_differentiable_functions.py:295\u001b[39m, in \u001b[36mScalarFunction._update_fun\u001b[39m\u001b[34m(self)\u001b[39m\n\u001b[32m    293\u001b[39m \u001b[38;5;28;01mdef\u001b[39;00m\u001b[38;5;250m \u001b[39m\u001b[34m_update_fun\u001b[39m(\u001b[38;5;28mself\u001b[39m):\n\u001b[32m    294\u001b[39m     \u001b[38;5;28;01mif\u001b[39;00m \u001b[38;5;129;01mnot\u001b[39;00m \u001b[38;5;28mself\u001b[39m.f_updated:\n\u001b[32m--> \u001b[39m\u001b[32m295\u001b[39m         fx = \u001b[38;5;28;43mself\u001b[39;49m\u001b[43m.\u001b[49m\u001b[43m_wrapped_fun\u001b[49m\u001b[43m(\u001b[49m\u001b[38;5;28;43mself\u001b[39;49m\u001b[43m.\u001b[49m\u001b[43mx\u001b[49m\u001b[43m)\u001b[49m\n\u001b[32m    296\u001b[39m         \u001b[38;5;28;01mif\u001b[39;00m fx < \u001b[38;5;28mself\u001b[39m._lowest_f:\n\u001b[32m    297\u001b[39m             \u001b[38;5;28mself\u001b[39m._lowest_x = \u001b[38;5;28mself\u001b[39m.x\n",
      "\u001b[36mFile \u001b[39m\u001b[32m~\\AppData\\Roaming\\Python\\Python313\\site-packages\\scipy\\optimize\\_differentiable_functions.py:21\u001b[39m, in \u001b[36m_wrapper_fun.<locals>.wrapped\u001b[39m\u001b[34m(x)\u001b[39m\n\u001b[32m     17\u001b[39m ncalls[\u001b[32m0\u001b[39m] += \u001b[32m1\u001b[39m\n\u001b[32m     18\u001b[39m \u001b[38;5;66;03m# Send a copy because the user may overwrite it.\u001b[39;00m\n\u001b[32m     19\u001b[39m \u001b[38;5;66;03m# Overwriting results in undefined behaviour because\u001b[39;00m\n\u001b[32m     20\u001b[39m \u001b[38;5;66;03m# fun(self.x) will change self.x, with the two no longer linked.\u001b[39;00m\n\u001b[32m---> \u001b[39m\u001b[32m21\u001b[39m fx = \u001b[43mfun\u001b[49m\u001b[43m(\u001b[49m\u001b[43mnp\u001b[49m\u001b[43m.\u001b[49m\u001b[43mcopy\u001b[49m\u001b[43m(\u001b[49m\u001b[43mx\u001b[49m\u001b[43m)\u001b[49m\u001b[43m,\u001b[49m\u001b[43m \u001b[49m\u001b[43m*\u001b[49m\u001b[43margs\u001b[49m\u001b[43m)\u001b[49m\n\u001b[32m     22\u001b[39m \u001b[38;5;66;03m# Make sure the function returns a true scalar\u001b[39;00m\n\u001b[32m     23\u001b[39m \u001b[38;5;28;01mif\u001b[39;00m \u001b[38;5;129;01mnot\u001b[39;00m np.isscalar(fx):\n",
      "\u001b[36mFile \u001b[39m\u001b[32mc:\\Users\\tayin\\.conda\\envs\\cwq\\Lib\\site-packages\\qiskit_optimization\\minimum_eigensolvers\\sampling_vqe.py:350\u001b[39m, in \u001b[36mSamplingVQE._get_evaluate_energy.<locals>.evaluate_energy\u001b[39m\u001b[34m(parameters)\u001b[39m\n\u001b[32m    345\u001b[39m parameters = np.reshape(parameters, (-\u001b[32m1\u001b[39m, num_parameters)).tolist()\n\u001b[32m    346\u001b[39m batch_size = \u001b[38;5;28mlen\u001b[39m(parameters)\n\u001b[32m    348\u001b[39m estimator_result = \u001b[43mestimator\u001b[49m\u001b[43m.\u001b[49m\u001b[43mrun\u001b[49m\u001b[43m(\u001b[49m\n\u001b[32m    349\u001b[39m \u001b[43m    \u001b[49m\u001b[43mbatch_size\u001b[49m\u001b[43m \u001b[49m\u001b[43m*\u001b[49m\u001b[43m \u001b[49m\u001b[43m[\u001b[49m\u001b[43mansatz\u001b[49m\u001b[43m]\u001b[49m\u001b[43m,\u001b[49m\u001b[43m \u001b[49m\u001b[43mbatch_size\u001b[49m\u001b[43m \u001b[49m\u001b[43m*\u001b[49m\u001b[43m \u001b[49m\u001b[43m[\u001b[49m\u001b[43moperator\u001b[49m\u001b[43m]\u001b[49m\u001b[43m,\u001b[49m\u001b[43m \u001b[49m\u001b[43mparameters\u001b[49m\n\u001b[32m--> \u001b[39m\u001b[32m350\u001b[39m \u001b[43m\u001b[49m\u001b[43m)\u001b[49m\u001b[43m.\u001b[49m\u001b[43mresult\u001b[49m\u001b[43m(\u001b[49m\u001b[43m)\u001b[49m\n\u001b[32m    351\u001b[39m values = estimator_result.values\n\u001b[32m    353\u001b[39m \u001b[38;5;28;01mif\u001b[39;00m \u001b[38;5;28mself\u001b[39m.callback \u001b[38;5;129;01mis\u001b[39;00m \u001b[38;5;129;01mnot\u001b[39;00m \u001b[38;5;28;01mNone\u001b[39;00m:\n",
      "\u001b[36mFile \u001b[39m\u001b[32mc:\\Users\\tayin\\.conda\\envs\\cwq\\Lib\\site-packages\\qiskit\\primitives\\primitive_job.py:65\u001b[39m, in \u001b[36mPrimitiveJob.result\u001b[39m\u001b[34m(self)\u001b[39m\n\u001b[32m     63\u001b[39m \u001b[38;5;28;01mif\u001b[39;00m \u001b[38;5;28mself\u001b[39m._result \u001b[38;5;129;01mis\u001b[39;00m \u001b[38;5;28;01mNone\u001b[39;00m:\n\u001b[32m     64\u001b[39m     \u001b[38;5;28mself\u001b[39m._check_submitted()\n\u001b[32m---> \u001b[39m\u001b[32m65\u001b[39m     \u001b[38;5;28mself\u001b[39m._result = \u001b[38;5;28;43mself\u001b[39;49m\u001b[43m.\u001b[49m\u001b[43m_future\u001b[49m\u001b[43m.\u001b[49m\u001b[43mresult\u001b[49m\u001b[43m(\u001b[49m\u001b[43m)\u001b[49m\n\u001b[32m     66\u001b[39m \u001b[38;5;28;01mreturn\u001b[39;00m \u001b[38;5;28mself\u001b[39m._result\n",
      "\u001b[36mFile \u001b[39m\u001b[32mc:\\Users\\tayin\\.conda\\envs\\cwq\\Lib\\concurrent\\futures\\_base.py:449\u001b[39m, in \u001b[36mFuture.result\u001b[39m\u001b[34m(self, timeout)\u001b[39m\n\u001b[32m    447\u001b[39m     \u001b[38;5;28;01mraise\u001b[39;00m CancelledError()\n\u001b[32m    448\u001b[39m \u001b[38;5;28;01melif\u001b[39;00m \u001b[38;5;28mself\u001b[39m._state == FINISHED:\n\u001b[32m--> \u001b[39m\u001b[32m449\u001b[39m     \u001b[38;5;28;01mreturn\u001b[39;00m \u001b[38;5;28;43mself\u001b[39;49m\u001b[43m.\u001b[49m\u001b[43m__get_result\u001b[49m\u001b[43m(\u001b[49m\u001b[43m)\u001b[49m\n\u001b[32m    451\u001b[39m \u001b[38;5;28mself\u001b[39m._condition.wait(timeout)\n\u001b[32m    453\u001b[39m \u001b[38;5;28;01mif\u001b[39;00m \u001b[38;5;28mself\u001b[39m._state \u001b[38;5;129;01min\u001b[39;00m [CANCELLED, CANCELLED_AND_NOTIFIED]:\n",
      "\u001b[36mFile \u001b[39m\u001b[32mc:\\Users\\tayin\\.conda\\envs\\cwq\\Lib\\concurrent\\futures\\_base.py:401\u001b[39m, in \u001b[36mFuture.__get_result\u001b[39m\u001b[34m(self)\u001b[39m\n\u001b[32m    399\u001b[39m \u001b[38;5;28;01mif\u001b[39;00m \u001b[38;5;28mself\u001b[39m._exception \u001b[38;5;129;01mis\u001b[39;00m \u001b[38;5;129;01mnot\u001b[39;00m \u001b[38;5;28;01mNone\u001b[39;00m:\n\u001b[32m    400\u001b[39m     \u001b[38;5;28;01mtry\u001b[39;00m:\n\u001b[32m--> \u001b[39m\u001b[32m401\u001b[39m         \u001b[38;5;28;01mraise\u001b[39;00m \u001b[38;5;28mself\u001b[39m._exception\n\u001b[32m    402\u001b[39m     \u001b[38;5;28;01mfinally\u001b[39;00m:\n\u001b[32m    403\u001b[39m         \u001b[38;5;66;03m# Break a reference cycle with the exception in self._exception\u001b[39;00m\n\u001b[32m    404\u001b[39m         \u001b[38;5;28mself\u001b[39m = \u001b[38;5;28;01mNone\u001b[39;00m\n",
      "\u001b[36mFile \u001b[39m\u001b[32mc:\\Users\\tayin\\.conda\\envs\\cwq\\Lib\\concurrent\\futures\\thread.py:59\u001b[39m, in \u001b[36m_WorkItem.run\u001b[39m\u001b[34m(self)\u001b[39m\n\u001b[32m     56\u001b[39m     \u001b[38;5;28;01mreturn\u001b[39;00m\n\u001b[32m     58\u001b[39m \u001b[38;5;28;01mtry\u001b[39;00m:\n\u001b[32m---> \u001b[39m\u001b[32m59\u001b[39m     result = \u001b[38;5;28;43mself\u001b[39;49m\u001b[43m.\u001b[49m\u001b[43mfn\u001b[49m\u001b[43m(\u001b[49m\u001b[43m*\u001b[49m\u001b[38;5;28;43mself\u001b[39;49m\u001b[43m.\u001b[49m\u001b[43margs\u001b[49m\u001b[43m,\u001b[49m\u001b[43m \u001b[49m\u001b[43m*\u001b[49m\u001b[43m*\u001b[49m\u001b[38;5;28;43mself\u001b[39;49m\u001b[43m.\u001b[49m\u001b[43mkwargs\u001b[49m\u001b[43m)\u001b[49m\n\u001b[32m     60\u001b[39m \u001b[38;5;28;01mexcept\u001b[39;00m \u001b[38;5;167;01mBaseException\u001b[39;00m \u001b[38;5;28;01mas\u001b[39;00m exc:\n\u001b[32m     61\u001b[39m     \u001b[38;5;28mself\u001b[39m.future.set_exception(exc)\n",
      "\u001b[36mFile \u001b[39m\u001b[32mc:\\Users\\tayin\\.conda\\envs\\cwq\\Lib\\site-packages\\qiskit_optimization\\minimum_eigensolvers\\diagonal_estimator.py:136\u001b[39m, in \u001b[36m_DiagonalEstimator._call\u001b[39m\u001b[34m(self, circuits, observables, parameter_values, **run_options)\u001b[39m\n\u001b[32m    134\u001b[39m     samples = sampler_result.quasi_dists\n\u001b[32m    135\u001b[39m \u001b[38;5;28;01melse\u001b[39;00m:  \u001b[38;5;66;03m# BaseSamplerV2\u001b[39;00m\n\u001b[32m--> \u001b[39m\u001b[32m136\u001b[39m     job = \u001b[38;5;28;43mself\u001b[39;49m\u001b[43m.\u001b[49m\u001b[43msampler\u001b[49m\u001b[43m.\u001b[49m\u001b[43mrun\u001b[49m\u001b[43m(\u001b[49m\n\u001b[32m    137\u001b[39m \u001b[43m        \u001b[49m\u001b[43m[\u001b[49m\u001b[43m(\u001b[49m\u001b[38;5;28;43mself\u001b[39;49m\u001b[43m.\u001b[49m\u001b[43m_circuits\u001b[49m\u001b[43m[\u001b[49m\u001b[43mi\u001b[49m\u001b[43m]\u001b[49m\u001b[43m,\u001b[49m\u001b[43m \u001b[49m\u001b[43mval\u001b[49m\u001b[43m)\u001b[49m\u001b[43m \u001b[49m\u001b[38;5;28;43;01mfor\u001b[39;49;00m\u001b[43m \u001b[49m\u001b[43mi\u001b[49m\u001b[43m,\u001b[49m\u001b[43m \u001b[49m\u001b[43mval\u001b[49m\u001b[43m \u001b[49m\u001b[38;5;129;43;01min\u001b[39;49;00m\u001b[43m \u001b[49m\u001b[38;5;28;43mzip\u001b[39;49m\u001b[43m(\u001b[49m\u001b[43mcircuits\u001b[49m\u001b[43m,\u001b[49m\u001b[43m \u001b[49m\u001b[43mparameter_values\u001b[49m\u001b[43m)\u001b[49m\u001b[43m]\u001b[49m\u001b[43m,\u001b[49m\n\u001b[32m    138\u001b[39m \u001b[43m        \u001b[49m\u001b[43m*\u001b[49m\u001b[43m*\u001b[49m\u001b[43mrun_options\u001b[49m\u001b[43m,\u001b[49m\n\u001b[32m    139\u001b[39m \u001b[43m    \u001b[49m\u001b[43m)\u001b[49m\n\u001b[32m    140\u001b[39m     sampler_pub_result = job.result()\n\u001b[32m    141\u001b[39m     metadata = []\n",
      "\u001b[36mFile \u001b[39m\u001b[32mc:\\Users\\tayin\\.conda\\envs\\cwq\\Lib\\site-packages\\qiskit_ibm_runtime\\sampler.py:111\u001b[39m, in \u001b[36mSamplerV2.run\u001b[39m\u001b[34m(self, pubs, shots)\u001b[39m\n\u001b[32m    107\u001b[39m coerced_pubs = [SamplerPub.coerce(pub, shots) \u001b[38;5;28;01mfor\u001b[39;00m pub \u001b[38;5;129;01min\u001b[39;00m pubs]\n\u001b[32m    109\u001b[39m validate_classical_registers(coerced_pubs)\n\u001b[32m--> \u001b[39m\u001b[32m111\u001b[39m \u001b[38;5;28;01mreturn\u001b[39;00m \u001b[38;5;28;43mself\u001b[39;49m\u001b[43m.\u001b[49m\u001b[43m_run\u001b[49m\u001b[43m(\u001b[49m\u001b[43mcoerced_pubs\u001b[49m\u001b[43m)\u001b[49m\n",
      "\u001b[36mFile \u001b[39m\u001b[32mc:\\Users\\tayin\\.conda\\envs\\cwq\\Lib\\site-packages\\qiskit_ibm_runtime\\base_primitive.py:146\u001b[39m, in \u001b[36mBasePrimitiveV2._run\u001b[39m\u001b[34m(self, pubs)\u001b[39m\n\u001b[32m    144\u001b[39m \u001b[38;5;28;01mif\u001b[39;00m \u001b[38;5;28mself\u001b[39m._backend:\n\u001b[32m    145\u001b[39m     \u001b[38;5;28;01mif\u001b[39;00m \u001b[38;5;129;01mnot\u001b[39;00m is_simulator(\u001b[38;5;28mself\u001b[39m._backend):\n\u001b[32m--> \u001b[39m\u001b[32m146\u001b[39m         \u001b[43mvalidate_rzz_pubs\u001b[49m\u001b[43m(\u001b[49m\u001b[43mpubs\u001b[49m\u001b[43m)\u001b[49m\n\u001b[32m    147\u001b[39m     \u001b[38;5;28;01mfor\u001b[39;00m pub \u001b[38;5;129;01min\u001b[39;00m pubs:\n\u001b[32m    148\u001b[39m         \u001b[38;5;28;01mif\u001b[39;00m \u001b[38;5;28mgetattr\u001b[39m(\u001b[38;5;28mself\u001b[39m._backend, \u001b[33m\"\u001b[39m\u001b[33mtarget\u001b[39m\u001b[33m\"\u001b[39m, \u001b[38;5;28;01mNone\u001b[39;00m) \u001b[38;5;129;01mand\u001b[39;00m \u001b[38;5;129;01mnot\u001b[39;00m is_simulator(\u001b[38;5;28mself\u001b[39m._backend):\n",
      "\u001b[36mFile \u001b[39m\u001b[32mc:\\Users\\tayin\\.conda\\envs\\cwq\\Lib\\site-packages\\qiskit_ibm_runtime\\utils\\validations.py:116\u001b[39m, in \u001b[36mvalidate_rzz_pubs\u001b[39m\u001b[34m(pubs)\u001b[39m\n\u001b[32m    114\u001b[39m message = is_valid_rzz_pub(pub)\n\u001b[32m    115\u001b[39m \u001b[38;5;28;01mif\u001b[39;00m message:\n\u001b[32m--> \u001b[39m\u001b[32m116\u001b[39m     \u001b[38;5;28;01mraise\u001b[39;00m IBMInputValueError(message)\n",
      "\u001b[31mIBMInputValueError\u001b[39m: 'The instruction rzz is supported only for angles in the range [0, pi/2], but an angle (-366.491965661209) outside of this range has been requested; via parameter value(s) γ[0]=-2.8632184817281954, substituted in parameter expression 128*γ[0].'"
     ]
    }
   ],
   "source": [
    "def run_knapsack(budget: int, impact: list[int], costs: list[int], backend_name: str = \"aer\") -> list[int]:\n",
    "    \"\"\"\n",
    "    Solve knapsack with QAOA or classical solver.\n",
    "    \"\"\"\n",
    "    from qiskit_optimization.applications import Knapsack\n",
    "    from qiskit_optimization.algorithms import MinimumEigenOptimizer\n",
    "    from qiskit_optimization.minimum_eigensolvers import QAOA, NumPyMinimumEigensolver\n",
    "    from qiskit_algorithms.optimizers import COBYLA\n",
    "\n",
    "    # --- Scale values (impacts) to [0, 1] ---\n",
    "    max_val = max(impact) if max(impact) > 0 else 1\n",
    "    scaled_impact = [v / max_val for v in impact]\n",
    "\n",
    "    print(\"Original impacts:\", impact)\n",
    "    print(\"Scaled impacts:\", scaled_impact)\n",
    "\n",
    "    # --- Build problem ---\n",
    "    prob = Knapsack(values=scaled_impact, weights=costs, max_weight=budget)\n",
    "    qp = prob.to_quadratic_program()\n",
    "    print(\"Quadratic Program:\")\n",
    "    print(qp.prettyprint())\n",
    "\n",
    "    # --- Classical baseline ---\n",
    "    meo_classical = MinimumEigenOptimizer(min_eigen_solver=NumPyMinimumEigensolver())\n",
    "    result_classical = meo_classical.solve(qp)\n",
    "    print(\"\\nClassical (NumPyMinimumEigensolver):\")\n",
    "    print(result_classical.prettyprint())\n",
    "    print(\"solution:\", prob.interpret(result_classical))\n",
    "\n",
    "    # --- Choose sampler ---\n",
    "    if backend_name == \"aer\":\n",
    "        from qiskit_aer.primitives import Sampler\n",
    "        sampler = Sampler()\n",
    "    else:\n",
    "        from qiskit_ibm_runtime import QiskitRuntimeService, SamplerV2 as Sampler\n",
    "        service = QiskitRuntimeService()\n",
    "        backend = service.backend(backend_name)\n",
    "        sampler = Sampler(mode=backend)\n",
    "\n",
    "    # --- Quantum QAOA ---\n",
    "    qaoa = QAOA(sampler=sampler, optimizer=COBYLA(maxiter=100), reps=1)\n",
    "    meo_qaoa = MinimumEigenOptimizer(qaoa)\n",
    "    result_qaoa = meo_qaoa.solve(qp)\n",
    "    print(result_qaoa)\n",
    "    print(f\"\\nQuantum (QAOA on {backend_name}):\")\n",
    "    print(result_qaoa.prettyprint())\n",
    "    print(\"solution:\", prob.interpret(result_qaoa))\n",
    "\n",
    "    return prob.interpret(result_qaoa)\n",
    "\n",
    "print(\"Final:\", run_knapsack(10, [1,2,3,4,5], [4,5,6,7,8], backend_name=\"ibm_torino\"))\n"
   ]
  },
  {
   "cell_type": "code",
   "execution_count": 19,
   "id": "9aae57de",
   "metadata": {},
   "outputs": [
    {
     "name": "stdout",
     "output_type": "stream",
     "text": [
      "Original impacts: [1, 2, 3, 4, 5]\n",
      "Scaled impacts: [0.2, 0.4, 0.6, 0.8, 1.0]\n",
      "Original costs: [4, 5, 6, 7, 8]\n",
      "Scaled costs: [0.5, 0.625, 0.75, 0.875, 1.0]\n",
      "Original budget: 10\n",
      "Scaled budget: 1.25\n",
      "Quadratic Program:\n",
      "Problem name: Knapsack\n",
      "\n",
      "Maximize\n",
      "  0.2*x_0 + 0.4*x_1 + 0.6*x_2 + 0.8*x_3 + x_4\n",
      "\n",
      "Subject to\n",
      "  Linear constraints (1)\n",
      "    0.5*x_0 + 0.625*x_1 + 0.75*x_2 + 0.875*x_3 + x_4 <= 1.25  'c0'\n",
      "\n",
      "  Binary variables (5)\n",
      "    x_0 x_1 x_2 x_3 x_4\n",
      "\n"
     ]
    },
    {
     "ename": "QiskitOptimizationError",
     "evalue": "'Incompatible problem: Can not convert inequality constraints to equality constraint because                     float coefficients are in constraints. '",
     "output_type": "error",
     "traceback": [
      "\u001b[31m---------------------------------------------------------------------------\u001b[39m",
      "\u001b[31mQiskitOptimizationError\u001b[39m                   Traceback (most recent call last)",
      "\u001b[36mCell\u001b[39m\u001b[36m \u001b[39m\u001b[32mIn[19]\u001b[39m\u001b[32m, line 60\u001b[39m\n\u001b[32m     56\u001b[39m     \u001b[38;5;28mprint\u001b[39m(\u001b[33m\"\u001b[39m\u001b[33msolution:\u001b[39m\u001b[33m\"\u001b[39m, prob.interpret(result_qaoa))\n\u001b[32m     58\u001b[39m     \u001b[38;5;28;01mreturn\u001b[39;00m prob.interpret(result_qaoa)\n\u001b[32m---> \u001b[39m\u001b[32m60\u001b[39m \u001b[38;5;28mprint\u001b[39m(\u001b[33m\"\u001b[39m\u001b[33mFinal:\u001b[39m\u001b[33m\"\u001b[39m, \u001b[43mrun_knapsack\u001b[49m\u001b[43m(\u001b[49m\u001b[32;43m10\u001b[39;49m\u001b[43m,\u001b[49m\u001b[43m \u001b[49m\u001b[43m[\u001b[49m\u001b[32;43m1\u001b[39;49m\u001b[43m,\u001b[49m\u001b[32;43m2\u001b[39;49m\u001b[43m,\u001b[49m\u001b[32;43m3\u001b[39;49m\u001b[43m,\u001b[49m\u001b[32;43m4\u001b[39;49m\u001b[43m,\u001b[49m\u001b[32;43m5\u001b[39;49m\u001b[43m]\u001b[49m\u001b[43m,\u001b[49m\u001b[43m \u001b[49m\u001b[43m[\u001b[49m\u001b[32;43m4\u001b[39;49m\u001b[43m,\u001b[49m\u001b[32;43m5\u001b[39;49m\u001b[43m,\u001b[49m\u001b[32;43m6\u001b[39;49m\u001b[43m,\u001b[49m\u001b[32;43m7\u001b[39;49m\u001b[43m,\u001b[49m\u001b[32;43m8\u001b[39;49m\u001b[43m]\u001b[49m\u001b[43m,\u001b[49m\u001b[43m \u001b[49m\u001b[43mbackend_name\u001b[49m\u001b[43m=\u001b[49m\u001b[33;43m\"\u001b[39;49m\u001b[33;43mibm_torino\u001b[39;49m\u001b[33;43m\"\u001b[39;49m\u001b[43m)\u001b[49m)\n",
      "\u001b[36mCell\u001b[39m\u001b[36m \u001b[39m\u001b[32mIn[19]\u001b[39m\u001b[32m, line 34\u001b[39m, in \u001b[36mrun_knapsack\u001b[39m\u001b[34m(budget, impact, costs, backend_name)\u001b[39m\n\u001b[32m     32\u001b[39m \u001b[38;5;66;03m# --- Classical baseline ---\u001b[39;00m\n\u001b[32m     33\u001b[39m meo_classical = MinimumEigenOptimizer(min_eigen_solver=NumPyMinimumEigensolver())\n\u001b[32m---> \u001b[39m\u001b[32m34\u001b[39m result_classical = \u001b[43mmeo_classical\u001b[49m\u001b[43m.\u001b[49m\u001b[43msolve\u001b[49m\u001b[43m(\u001b[49m\u001b[43mqp\u001b[49m\u001b[43m)\u001b[49m\n\u001b[32m     35\u001b[39m \u001b[38;5;28mprint\u001b[39m(\u001b[33m\"\u001b[39m\u001b[38;5;130;01m\\n\u001b[39;00m\u001b[33mClassical (NumPyMinimumEigensolver):\u001b[39m\u001b[33m\"\u001b[39m)\n\u001b[32m     36\u001b[39m \u001b[38;5;28mprint\u001b[39m(result_classical.prettyprint())\n",
      "\u001b[36mFile \u001b[39m\u001b[32mc:\\Users\\tayin\\.conda\\envs\\cwq\\Lib\\site-packages\\qiskit_optimization\\algorithms\\minimum_eigen_optimizer.py:196\u001b[39m, in \u001b[36mMinimumEigenOptimizer.solve\u001b[39m\u001b[34m(self, problem)\u001b[39m\n\u001b[32m    182\u001b[39m \u001b[38;5;28;01mdef\u001b[39;00m\u001b[38;5;250m \u001b[39m\u001b[34msolve\u001b[39m(\u001b[38;5;28mself\u001b[39m, problem: QuadraticProgram) -> MinimumEigenOptimizationResult:\n\u001b[32m    183\u001b[39m \u001b[38;5;250m    \u001b[39m\u001b[33;03m\"\"\"Tries to solves the given problem using the optimizer.\u001b[39;00m\n\u001b[32m    184\u001b[39m \n\u001b[32m    185\u001b[39m \u001b[33;03m    Runs the optimizer to try to solve the optimization problem.\u001b[39;00m\n\u001b[32m   (...)\u001b[39m\u001b[32m    194\u001b[39m \u001b[33;03m        QiskitOptimizationError: If problem not compatible.\u001b[39;00m\n\u001b[32m    195\u001b[39m \u001b[33;03m    \"\"\"\u001b[39;00m\n\u001b[32m--> \u001b[39m\u001b[32m196\u001b[39m     \u001b[38;5;28;43mself\u001b[39;49m\u001b[43m.\u001b[49m\u001b[43m_verify_compatibility\u001b[49m\u001b[43m(\u001b[49m\u001b[43mproblem\u001b[49m\u001b[43m)\u001b[49m\n\u001b[32m    198\u001b[39m     \u001b[38;5;66;03m# convert problem to QUBO minimization problem\u001b[39;00m\n\u001b[32m    199\u001b[39m     problem_ = \u001b[38;5;28mself\u001b[39m._convert(problem, \u001b[38;5;28mself\u001b[39m._converters)\n",
      "\u001b[36mFile \u001b[39m\u001b[32mc:\\Users\\tayin\\.conda\\envs\\cwq\\Lib\\site-packages\\qiskit_optimization\\algorithms\\optimization_algorithm.py:357\u001b[39m, in \u001b[36mOptimizationAlgorithm._verify_compatibility\u001b[39m\u001b[34m(self, problem)\u001b[39m\n\u001b[32m    355\u001b[39m msg = \u001b[38;5;28mself\u001b[39m.get_compatibility_msg(problem)\n\u001b[32m    356\u001b[39m \u001b[38;5;28;01mif\u001b[39;00m msg:\n\u001b[32m--> \u001b[39m\u001b[32m357\u001b[39m     \u001b[38;5;28;01mraise\u001b[39;00m QiskitOptimizationError(\u001b[33mf\u001b[39m\u001b[33m\"\u001b[39m\u001b[33mIncompatible problem: \u001b[39m\u001b[38;5;132;01m{\u001b[39;00mmsg\u001b[38;5;132;01m}\u001b[39;00m\u001b[33m\"\u001b[39m)\n",
      "\u001b[31mQiskitOptimizationError\u001b[39m: 'Incompatible problem: Can not convert inequality constraints to equality constraint because                     float coefficients are in constraints. '"
     ]
    }
   ],
   "source": [
    "def run_knapsack(budget: int, impact: list[int], costs: list[int], backend_name: str = \"aer\") -> list[int]:\n",
    "    \"\"\"\n",
    "    Solve knapsack with QAOA or classical solver.\n",
    "    \"\"\"\n",
    "    from qiskit_optimization.applications import Knapsack\n",
    "    from qiskit_optimization.algorithms import MinimumEigenOptimizer\n",
    "    from qiskit_optimization.minimum_eigensolvers import QAOA, NumPyMinimumEigensolver\n",
    "    from qiskit_algorithms.optimizers import COBYLA\n",
    "\n",
    "    # --- Scale values (impacts) to [0, 1] ---\n",
    "    max_val = max(impact) if max(impact) > 0 else 1\n",
    "    scaled_impact = [v / max_val for v in impact]\n",
    "\n",
    "    # --- Scale weights and budget to [0, 1] ---\n",
    "    max_cost = max(costs) if max(costs) > 0 else 1\n",
    "    scaled_costs = [w / max_cost for w in costs]\n",
    "    scaled_budget = budget / max_cost\n",
    "\n",
    "    print(\"Original impacts:\", impact)\n",
    "    print(\"Scaled impacts:\", scaled_impact)\n",
    "    print(\"Original costs:\", costs)\n",
    "    print(\"Scaled costs:\", scaled_costs)\n",
    "    print(\"Original budget:\", budget)\n",
    "    print(\"Scaled budget:\", scaled_budget)\n",
    "\n",
    "    # --- Build problem ---\n",
    "    prob = Knapsack(values=scaled_impact, weights=scaled_costs, max_weight=scaled_budget)\n",
    "    qp = prob.to_quadratic_program()\n",
    "    print(\"Quadratic Program:\")\n",
    "    print(qp.prettyprint())\n",
    "\n",
    "    # --- Classical baseline ---\n",
    "    meo_classical = MinimumEigenOptimizer(min_eigen_solver=NumPyMinimumEigensolver())\n",
    "    result_classical = meo_classical.solve(qp)\n",
    "    print(\"\\nClassical (NumPyMinimumEigensolver):\")\n",
    "    print(result_classical.prettyprint())\n",
    "    print(\"solution:\", prob.interpret(result_classical))\n",
    "\n",
    "    # --- Choose sampler ---\n",
    "    if backend_name == \"aer\":\n",
    "        from qiskit_aer.primitives import Sampler\n",
    "        sampler = Sampler()\n",
    "    else:\n",
    "        from qiskit_ibm_runtime import QiskitRuntimeService, SamplerV2 as Sampler\n",
    "        service = QiskitRuntimeService()\n",
    "        backend = service.backend(backend_name)\n",
    "        sampler = Sampler(mode=backend)\n",
    "\n",
    "    # --- Quantum QAOA ---\n",
    "    qaoa = QAOA(sampler=sampler, optimizer=COBYLA(maxiter=100), reps=1)\n",
    "    meo_qaoa = MinimumEigenOptimizer(qaoa)\n",
    "    result_qaoa = meo_qaoa.solve(qp)\n",
    "    print(result_qaoa)\n",
    "    print(f\"\\nQuantum (QAOA on {backend_name}):\")\n",
    "    print(result_qaoa.prettyprint())\n",
    "    print(\"solution:\", prob.interpret(result_qaoa))\n",
    "\n",
    "    return prob.interpret(result_qaoa)\n",
    "\n",
    "print(\"Final:\", run_knapsack(10, [1,2,3,4,5], [4,5,6,7,8], backend_name=\"ibm_torino\"))\n"
   ]
  },
  {
   "cell_type": "code",
   "execution_count": 20,
   "id": "4a2eb1f3",
   "metadata": {},
   "outputs": [
    {
     "name": "stdout",
     "output_type": "stream",
     "text": [
      "Original impacts: [1, 2, 3, 4, 5]\n",
      "Scaled impacts: [0.2, 0.4, 0.6, 0.8, 1.0]\n",
      "Original costs: [4, 5, 6, 7, 8]\n",
      "Scaled costs: [0.5, 0.625, 0.75, 0.875, 1.0]\n",
      "Original budget: 10\n",
      "Scaled budget: 1.25\n",
      "Quadratic Program:\n",
      "Problem name: Knapsack\n",
      "\n",
      "Maximize\n",
      "  0.2*x_0 + 0.4*x_1 + 0.6*x_2 + 0.8*x_3 + x_4\n",
      "\n",
      "Subject to\n",
      "  Linear constraints (1)\n",
      "    0.5*x_0 + 0.625*x_1 + 0.75*x_2 + 0.875*x_3 + x_4 <= 1.25  'c0'\n",
      "\n",
      "  Binary variables (5)\n",
      "    x_0 x_1 x_2 x_3 x_4\n",
      "\n"
     ]
    },
    {
     "ename": "QiskitOptimizationError",
     "evalue": "'Incompatible problem: Can not convert inequality constraints to equality constraint because                     float coefficients are in constraints. '",
     "output_type": "error",
     "traceback": [
      "\u001b[31m---------------------------------------------------------------------------\u001b[39m",
      "\u001b[31mQiskitOptimizationError\u001b[39m                   Traceback (most recent call last)",
      "\u001b[36mCell\u001b[39m\u001b[36m \u001b[39m\u001b[32mIn[20]\u001b[39m\u001b[32m, line 60\u001b[39m\n\u001b[32m     56\u001b[39m     \u001b[38;5;28mprint\u001b[39m(\u001b[33m\"\u001b[39m\u001b[33msolution:\u001b[39m\u001b[33m\"\u001b[39m, prob.interpret(result_qaoa))\n\u001b[32m     58\u001b[39m     \u001b[38;5;28;01mreturn\u001b[39;00m prob.interpret(result_qaoa)\n\u001b[32m---> \u001b[39m\u001b[32m60\u001b[39m \u001b[38;5;28mprint\u001b[39m(\u001b[33m\"\u001b[39m\u001b[33mFinal:\u001b[39m\u001b[33m\"\u001b[39m, \u001b[43mrun_knapsack\u001b[49m\u001b[43m(\u001b[49m\u001b[32;43m10\u001b[39;49m\u001b[43m,\u001b[49m\u001b[43m \u001b[49m\u001b[43m[\u001b[49m\u001b[32;43m1\u001b[39;49m\u001b[43m,\u001b[49m\u001b[32;43m2\u001b[39;49m\u001b[43m,\u001b[49m\u001b[32;43m3\u001b[39;49m\u001b[43m,\u001b[49m\u001b[32;43m4\u001b[39;49m\u001b[43m,\u001b[49m\u001b[32;43m5\u001b[39;49m\u001b[43m]\u001b[49m\u001b[43m,\u001b[49m\u001b[43m \u001b[49m\u001b[43m[\u001b[49m\u001b[32;43m4\u001b[39;49m\u001b[43m,\u001b[49m\u001b[32;43m5\u001b[39;49m\u001b[43m,\u001b[49m\u001b[32;43m6\u001b[39;49m\u001b[43m,\u001b[49m\u001b[32;43m7\u001b[39;49m\u001b[43m,\u001b[49m\u001b[32;43m8\u001b[39;49m\u001b[43m]\u001b[49m\u001b[43m,\u001b[49m\u001b[43m \u001b[49m\u001b[43mbackend_name\u001b[49m\u001b[43m=\u001b[49m\u001b[33;43m\"\u001b[39;49m\u001b[33;43mibm_torino\u001b[39;49m\u001b[33;43m\"\u001b[39;49m\u001b[43m)\u001b[49m)\n",
      "\u001b[36mCell\u001b[39m\u001b[36m \u001b[39m\u001b[32mIn[20]\u001b[39m\u001b[32m, line 34\u001b[39m, in \u001b[36mrun_knapsack\u001b[39m\u001b[34m(budget, impact, costs, backend_name)\u001b[39m\n\u001b[32m     32\u001b[39m \u001b[38;5;66;03m# --- Classical baseline ---\u001b[39;00m\n\u001b[32m     33\u001b[39m meo_classical = MinimumEigenOptimizer(min_eigen_solver=NumPyMinimumEigensolver())\n\u001b[32m---> \u001b[39m\u001b[32m34\u001b[39m result_classical = \u001b[43mmeo_classical\u001b[49m\u001b[43m.\u001b[49m\u001b[43msolve\u001b[49m\u001b[43m(\u001b[49m\u001b[43mqp\u001b[49m\u001b[43m)\u001b[49m\n\u001b[32m     35\u001b[39m \u001b[38;5;28mprint\u001b[39m(\u001b[33m\"\u001b[39m\u001b[38;5;130;01m\\n\u001b[39;00m\u001b[33mClassical (NumPyMinimumEigensolver):\u001b[39m\u001b[33m\"\u001b[39m)\n\u001b[32m     36\u001b[39m \u001b[38;5;28mprint\u001b[39m(result_classical.prettyprint())\n",
      "\u001b[36mFile \u001b[39m\u001b[32mc:\\Users\\tayin\\.conda\\envs\\cwq\\Lib\\site-packages\\qiskit_optimization\\algorithms\\minimum_eigen_optimizer.py:196\u001b[39m, in \u001b[36mMinimumEigenOptimizer.solve\u001b[39m\u001b[34m(self, problem)\u001b[39m\n\u001b[32m    182\u001b[39m \u001b[38;5;28;01mdef\u001b[39;00m\u001b[38;5;250m \u001b[39m\u001b[34msolve\u001b[39m(\u001b[38;5;28mself\u001b[39m, problem: QuadraticProgram) -> MinimumEigenOptimizationResult:\n\u001b[32m    183\u001b[39m \u001b[38;5;250m    \u001b[39m\u001b[33;03m\"\"\"Tries to solves the given problem using the optimizer.\u001b[39;00m\n\u001b[32m    184\u001b[39m \n\u001b[32m    185\u001b[39m \u001b[33;03m    Runs the optimizer to try to solve the optimization problem.\u001b[39;00m\n\u001b[32m   (...)\u001b[39m\u001b[32m    194\u001b[39m \u001b[33;03m        QiskitOptimizationError: If problem not compatible.\u001b[39;00m\n\u001b[32m    195\u001b[39m \u001b[33;03m    \"\"\"\u001b[39;00m\n\u001b[32m--> \u001b[39m\u001b[32m196\u001b[39m     \u001b[38;5;28;43mself\u001b[39;49m\u001b[43m.\u001b[49m\u001b[43m_verify_compatibility\u001b[49m\u001b[43m(\u001b[49m\u001b[43mproblem\u001b[49m\u001b[43m)\u001b[49m\n\u001b[32m    198\u001b[39m     \u001b[38;5;66;03m# convert problem to QUBO minimization problem\u001b[39;00m\n\u001b[32m    199\u001b[39m     problem_ = \u001b[38;5;28mself\u001b[39m._convert(problem, \u001b[38;5;28mself\u001b[39m._converters)\n",
      "\u001b[36mFile \u001b[39m\u001b[32mc:\\Users\\tayin\\.conda\\envs\\cwq\\Lib\\site-packages\\qiskit_optimization\\algorithms\\optimization_algorithm.py:357\u001b[39m, in \u001b[36mOptimizationAlgorithm._verify_compatibility\u001b[39m\u001b[34m(self, problem)\u001b[39m\n\u001b[32m    355\u001b[39m msg = \u001b[38;5;28mself\u001b[39m.get_compatibility_msg(problem)\n\u001b[32m    356\u001b[39m \u001b[38;5;28;01mif\u001b[39;00m msg:\n\u001b[32m--> \u001b[39m\u001b[32m357\u001b[39m     \u001b[38;5;28;01mraise\u001b[39;00m QiskitOptimizationError(\u001b[33mf\u001b[39m\u001b[33m\"\u001b[39m\u001b[33mIncompatible problem: \u001b[39m\u001b[38;5;132;01m{\u001b[39;00mmsg\u001b[38;5;132;01m}\u001b[39;00m\u001b[33m\"\u001b[39m)\n",
      "\u001b[31mQiskitOptimizationError\u001b[39m: 'Incompatible problem: Can not convert inequality constraints to equality constraint because                     float coefficients are in constraints. '"
     ]
    }
   ],
   "source": [
    "def run_knapsack(budget: int, impact: list[int], costs: list[int], backend_name: str = \"aer\") -> list[int]:\n",
    "    \"\"\"\n",
    "    Solve knapsack with QAOA or classical solver.\n",
    "    \"\"\"\n",
    "    from qiskit_optimization.applications import Knapsack\n",
    "    from qiskit_optimization.algorithms import MinimumEigenOptimizer\n",
    "    from qiskit_optimization.minimum_eigensolvers import QAOA, NumPyMinimumEigensolver\n",
    "    from qiskit_algorithms.optimizers import COBYLA\n",
    "\n",
    "    # --- Scale values (impacts) to [0, 1] ---\n",
    "    max_val = max(impact) if max(impact) > 0 else 1\n",
    "    scaled_impact = [v / max_val for v in impact]\n",
    "\n",
    "    # --- Scale weights and budget to [0, 1] ---\n",
    "    max_cost = max(costs) if max(costs) > 0 else 1\n",
    "    scaled_costs = [w / max_cost for w in costs]\n",
    "    scaled_budget = budget / max_cost\n",
    "\n",
    "    print(\"Original impacts:\", impact)\n",
    "    print(\"Scaled impacts:\", scaled_impact)\n",
    "    print(\"Original costs:\", costs)\n",
    "    print(\"Scaled costs:\", scaled_costs)\n",
    "    print(\"Original budget:\", budget)\n",
    "    print(\"Scaled budget:\", scaled_budget)\n",
    "\n",
    "    # --- Build problem ---\n",
    "    prob = Knapsack(values=scaled_impact, weights=scaled_costs, max_weight=scaled_budget)\n",
    "    qp = prob.to_quadratic_program()\n",
    "    print(\"Quadratic Program:\")\n",
    "    print(qp.prettyprint())\n",
    "\n",
    "    # --- Classical baseline ---\n",
    "    meo_classical = MinimumEigenOptimizer(min_eigen_solver=NumPyMinimumEigensolver())\n",
    "    result_classical = meo_classical.solve(qp)\n",
    "    print(\"\\nClassical (NumPyMinimumEigensolver):\")\n",
    "    print(result_classical.prettyprint())\n",
    "    print(\"solution:\", prob.interpret(result_classical))\n",
    "\n",
    "    # --- Choose sampler ---\n",
    "    if backend_name == \"aer\":\n",
    "        from qiskit_aer.primitives import Sampler\n",
    "        sampler = Sampler()\n",
    "    else:\n",
    "        from qiskit_ibm_runtime import QiskitRuntimeService, SamplerV2 as Sampler\n",
    "        service = QiskitRuntimeService()\n",
    "        backend = service.backend(backend_name)\n",
    "        sampler = Sampler(mode=backend)\n",
    "\n",
    "    # --- Quantum QAOA ---\n",
    "    qaoa = QAOA(sampler=sampler, optimizer=COBYLA(maxiter=100), reps=1)\n",
    "    meo_qaoa = MinimumEigenOptimizer(qaoa)\n",
    "    result_qaoa = meo_qaoa.solve(qp)\n",
    "    print(result_qaoa)\n",
    "    print(f\"\\nQuantum (QAOA on {backend_name}):\")\n",
    "    print(result_qaoa.prettyprint())\n",
    "    print(\"solution:\", prob.interpret(result_qaoa))\n",
    "\n",
    "    return prob.interpret(result_qaoa)\n",
    "\n",
    "print(\"Final:\", run_knapsack(10, [1,2,3,4,5], [4,5,6,7,8], backend_name=\"ibm_torino\"))\n"
   ]
  },
  {
   "cell_type": "code",
   "execution_count": null,
   "id": "f45faa82",
   "metadata": {},
   "outputs": [
    {
     "name": "stdout",
     "output_type": "stream",
     "text": [
      "Original impacts: [1, 2, 3, 4, 5]\n",
      "Original costs: [4, 5, 6, 7, 8]\n",
      "Rescaled impacts: [1, 2, 4, 5, 6]\n",
      "Rescaled costs: [5, 6, 8, 9, 10]\n",
      "Rescaled budget: 12\n",
      "Quadratic Program:\n",
      "Problem name: Knapsack\n",
      "\n",
      "Maximize\n",
      "  x_0 + 2*x_1 + 4*x_2 + 5*x_3 + 6*x_4\n",
      "\n",
      "Subject to\n",
      "  Linear constraints (1)\n",
      "    5*x_0 + 6*x_1 + 8*x_2 + 9*x_3 + 10*x_4 <= 12  'c0'\n",
      "\n",
      "  Binary variables (5)\n",
      "    x_0 x_1 x_2 x_3 x_4\n",
      "\n",
      "\n",
      "Classical (NumPyMinimumEigensolver):\n",
      "objective function value: 6.0\n",
      "variable values: x_0=0.0, x_1=0.0, x_2=0.0, x_3=0.0, x_4=1.0\n",
      "status: SUCCESS\n",
      "solution: [4]\n"
     ]
    },
    {
     "name": "stderr",
     "output_type": "stream",
     "text": [
      "c:\\Users\\tayin\\.conda\\envs\\cwq\\Lib\\site-packages\\qiskit_optimization\\minimum_eigensolvers\\qaoa.py:122: UserWarning: Using Sampler V2 (other than StatevectorSampler) without a pass_manager may result in an error. Consider providing a pass_manager for proper circuit transpilation.\n",
      "  super().__init__(\n"
     ]
    },
    {
     "ename": "IBMInputValueError",
     "evalue": "'The instruction rzz is supported only for angles in the range [0, pi/2], but an angle (3583.6626513130313) outside of this range has been requested; via parameter value(s) γ[0]=5.89418199229117, substituted in parameter expression 608*γ[0].'",
     "output_type": "error",
     "traceback": [
      "\u001b[31m---------------------------------------------------------------------------\u001b[39m",
      "\u001b[31mIBMInputValueError\u001b[39m                        Traceback (most recent call last)",
      "\u001b[36mCell\u001b[39m\u001b[36m \u001b[39m\u001b[32mIn[11]\u001b[39m\u001b[32m, line 58\u001b[39m\n\u001b[32m     55\u001b[39m     \u001b[38;5;28;01mreturn\u001b[39;00m prob.interpret(result_qaoa)\n\u001b[32m     57\u001b[39m \u001b[38;5;66;03m# Example run\u001b[39;00m\n\u001b[32m---> \u001b[39m\u001b[32m58\u001b[39m (\u001b[33m\"\u001b[39m\u001b[33mFinal:\u001b[39m\u001b[33m\"\u001b[39m, \u001b[43mrun_knapsack\u001b[49m\u001b[43m(\u001b[49m\u001b[32;43m10\u001b[39;49m\u001b[43m,\u001b[49m\u001b[43m \u001b[49m\u001b[43m[\u001b[49m\u001b[32;43m1\u001b[39;49m\u001b[43m,\u001b[49m\u001b[32;43m2\u001b[39;49m\u001b[43m,\u001b[49m\u001b[32;43m3\u001b[39;49m\u001b[43m,\u001b[49m\u001b[32;43m4\u001b[39;49m\u001b[43m,\u001b[49m\u001b[32;43m5\u001b[39;49m\u001b[43m]\u001b[49m\u001b[43m,\u001b[49m\u001b[43m \u001b[49m\u001b[43m[\u001b[49m\u001b[32;43m4\u001b[39;49m\u001b[43m,\u001b[49m\u001b[32;43m5\u001b[39;49m\u001b[43m,\u001b[49m\u001b[32;43m6\u001b[39;49m\u001b[43m,\u001b[49m\u001b[32;43m7\u001b[39;49m\u001b[43m,\u001b[49m\u001b[32;43m8\u001b[39;49m\u001b[43m]\u001b[49m\u001b[43m,\u001b[49m\u001b[43m \u001b[49m\u001b[43mbackend_name\u001b[49m\u001b[43m=\u001b[49m\u001b[33;43m\"\u001b[39;49m\u001b[33;43mibm_torino\u001b[39;49m\u001b[33;43m\"\u001b[39;49m\u001b[43m)\u001b[49m)\n",
      "\u001b[36mCell\u001b[39m\u001b[36m \u001b[39m\u001b[32mIn[11]\u001b[39m\u001b[32m, line 49\u001b[39m, in \u001b[36mrun_knapsack\u001b[39m\u001b[34m(budget, impact, costs, backend_name)\u001b[39m\n\u001b[32m     47\u001b[39m qaoa = QAOA(sampler=sampler, optimizer=COBYLA(maxiter=\u001b[32m100\u001b[39m), reps=\u001b[32m1\u001b[39m)\n\u001b[32m     48\u001b[39m meo_qaoa = MinimumEigenOptimizer(qaoa)\n\u001b[32m---> \u001b[39m\u001b[32m49\u001b[39m result_qaoa = \u001b[43mmeo_qaoa\u001b[49m\u001b[43m.\u001b[49m\u001b[43msolve\u001b[49m\u001b[43m(\u001b[49m\u001b[43mqp\u001b[49m\u001b[43m)\u001b[49m\n\u001b[32m     50\u001b[39m \u001b[38;5;28mprint\u001b[39m(result_qaoa)\n\u001b[32m     51\u001b[39m \u001b[38;5;28mprint\u001b[39m(\u001b[33mf\u001b[39m\u001b[33m\"\u001b[39m\u001b[38;5;130;01m\\n\u001b[39;00m\u001b[33mQuantum (QAOA on \u001b[39m\u001b[38;5;132;01m{\u001b[39;00mbackend_name\u001b[38;5;132;01m}\u001b[39;00m\u001b[33m):\u001b[39m\u001b[33m\"\u001b[39m)\n",
      "\u001b[36mFile \u001b[39m\u001b[32mc:\\Users\\tayin\\.conda\\envs\\cwq\\Lib\\site-packages\\qiskit_optimization\\algorithms\\minimum_eigen_optimizer.py:204\u001b[39m, in \u001b[36mMinimumEigenOptimizer.solve\u001b[39m\u001b[34m(self, problem)\u001b[39m\n\u001b[32m    201\u001b[39m \u001b[38;5;66;03m# construct operator and offset\u001b[39;00m\n\u001b[32m    202\u001b[39m operator, offset = problem_.to_ising()\n\u001b[32m--> \u001b[39m\u001b[32m204\u001b[39m \u001b[38;5;28;01mreturn\u001b[39;00m \u001b[38;5;28;43mself\u001b[39;49m\u001b[43m.\u001b[49m\u001b[43m_solve_internal\u001b[49m\u001b[43m(\u001b[49m\u001b[43moperator\u001b[49m\u001b[43m,\u001b[49m\u001b[43m \u001b[49m\u001b[43moffset\u001b[49m\u001b[43m,\u001b[49m\u001b[43m \u001b[49m\u001b[43mproblem_\u001b[49m\u001b[43m,\u001b[49m\u001b[43m \u001b[49m\u001b[43mproblem\u001b[49m\u001b[43m)\u001b[49m\n",
      "\u001b[36mFile \u001b[39m\u001b[32mc:\\Users\\tayin\\.conda\\envs\\cwq\\Lib\\site-packages\\qiskit_optimization\\algorithms\\minimum_eigen_optimizer.py:217\u001b[39m, in \u001b[36mMinimumEigenOptimizer._solve_internal\u001b[39m\u001b[34m(self, operator, offset, converted_problem, original_problem)\u001b[39m\n\u001b[32m    214\u001b[39m eigen_result: MinimumEigensolverResult | \u001b[38;5;28;01mNone\u001b[39;00m = \u001b[38;5;28;01mNone\u001b[39;00m\n\u001b[32m    215\u001b[39m \u001b[38;5;28;01mif\u001b[39;00m operator.num_qubits > \u001b[32m0\u001b[39m:\n\u001b[32m    216\u001b[39m     \u001b[38;5;66;03m# approximate ground state of operator using min eigen solver\u001b[39;00m\n\u001b[32m--> \u001b[39m\u001b[32m217\u001b[39m     eigen_result = \u001b[38;5;28;43mself\u001b[39;49m\u001b[43m.\u001b[49m\u001b[43m_min_eigen_solver\u001b[49m\u001b[43m.\u001b[49m\u001b[43mcompute_minimum_eigenvalue\u001b[49m\u001b[43m(\u001b[49m\u001b[43moperator\u001b[49m\u001b[43m)\u001b[49m\n\u001b[32m    218\u001b[39m     \u001b[38;5;66;03m# analyze results\u001b[39;00m\n\u001b[32m    219\u001b[39m     raw_samples = \u001b[38;5;28;01mNone\u001b[39;00m\n",
      "\u001b[36mFile \u001b[39m\u001b[32mc:\\Users\\tayin\\.conda\\envs\\cwq\\Lib\\site-packages\\qiskit_optimization\\minimum_eigensolvers\\sampling_vqe.py:250\u001b[39m, in \u001b[36mSamplingVQE.compute_minimum_eigenvalue\u001b[39m\u001b[34m(self, operator, aux_operators)\u001b[39m\n\u001b[32m    245\u001b[39m \u001b[38;5;28;01melse\u001b[39;00m:\n\u001b[32m    246\u001b[39m     \u001b[38;5;66;03m# we always want to submit as many estimations per job as possible for minimal\u001b[39;00m\n\u001b[32m    247\u001b[39m     \u001b[38;5;66;03m# overhead on the hardware\u001b[39;00m\n\u001b[32m    248\u001b[39m     was_updated = _set_default_batchsize(\u001b[38;5;28mself\u001b[39m.optimizer)\n\u001b[32m--> \u001b[39m\u001b[32m250\u001b[39m     optimizer_result = \u001b[38;5;28;43mself\u001b[39;49m\u001b[43m.\u001b[49m\u001b[43moptimizer\u001b[49m\u001b[43m.\u001b[49m\u001b[43mminimize\u001b[49m\u001b[43m(\u001b[49m\n\u001b[32m    251\u001b[39m \u001b[43m        \u001b[49m\u001b[43mfun\u001b[49m\u001b[43m=\u001b[49m\u001b[43mevaluate_energy\u001b[49m\u001b[43m,\u001b[49m\u001b[43m  \u001b[49m\u001b[38;5;66;43;03m# type: ignore[arg-type]\u001b[39;49;00m\n\u001b[32m    252\u001b[39m \u001b[43m        \u001b[49m\u001b[43mx0\u001b[49m\u001b[43m=\u001b[49m\u001b[43minitial_point\u001b[49m\u001b[43m,\u001b[49m\n\u001b[32m    253\u001b[39m \u001b[43m        \u001b[49m\u001b[43mbounds\u001b[49m\u001b[43m=\u001b[49m\u001b[43mbounds\u001b[49m\u001b[43m,\u001b[49m\n\u001b[32m    254\u001b[39m \u001b[43m    \u001b[49m\u001b[43m)\u001b[49m\n\u001b[32m    256\u001b[39m     \u001b[38;5;66;03m# reset to original value\u001b[39;00m\n\u001b[32m    257\u001b[39m     \u001b[38;5;28;01mif\u001b[39;00m was_updated:\n",
      "\u001b[36mFile \u001b[39m\u001b[32mc:\\Users\\tayin\\.conda\\envs\\cwq\\Lib\\site-packages\\qiskit_algorithms\\optimizers\\scipy_optimizer.py:162\u001b[39m, in \u001b[36mSciPyOptimizer.minimize\u001b[39m\u001b[34m(self, fun, x0, jac, bounds)\u001b[39m\n\u001b[32m    159\u001b[39m     swapped_deprecated_args = \u001b[38;5;28;01mTrue\u001b[39;00m\n\u001b[32m    160\u001b[39m     \u001b[38;5;28mself\u001b[39m._options[\u001b[33m\"\u001b[39m\u001b[33mmaxfun\u001b[39m\u001b[33m\"\u001b[39m] = \u001b[38;5;28mself\u001b[39m._options.pop(\u001b[33m\"\u001b[39m\u001b[33mmaxiter\u001b[39m\u001b[33m\"\u001b[39m)\n\u001b[32m--> \u001b[39m\u001b[32m162\u001b[39m raw_result = \u001b[43mminimize\u001b[49m\u001b[43m(\u001b[49m\n\u001b[32m    163\u001b[39m \u001b[43m    \u001b[49m\u001b[43mfun\u001b[49m\u001b[43m=\u001b[49m\u001b[43mfun\u001b[49m\u001b[43m,\u001b[49m\n\u001b[32m    164\u001b[39m \u001b[43m    \u001b[49m\u001b[43mx0\u001b[49m\u001b[43m=\u001b[49m\u001b[43mx0\u001b[49m\u001b[43m,\u001b[49m\n\u001b[32m    165\u001b[39m \u001b[43m    \u001b[49m\u001b[43mmethod\u001b[49m\u001b[43m=\u001b[49m\u001b[38;5;28;43mself\u001b[39;49m\u001b[43m.\u001b[49m\u001b[43m_method\u001b[49m\u001b[43m,\u001b[49m\n\u001b[32m    166\u001b[39m \u001b[43m    \u001b[49m\u001b[43mjac\u001b[49m\u001b[43m=\u001b[49m\u001b[43mjac\u001b[49m\u001b[43m,\u001b[49m\n\u001b[32m    167\u001b[39m \u001b[43m    \u001b[49m\u001b[43mbounds\u001b[49m\u001b[43m=\u001b[49m\u001b[43mbounds\u001b[49m\u001b[43m,\u001b[49m\n\u001b[32m    168\u001b[39m \u001b[43m    \u001b[49m\u001b[43moptions\u001b[49m\u001b[43m=\u001b[49m\u001b[38;5;28;43mself\u001b[39;49m\u001b[43m.\u001b[49m\u001b[43m_options\u001b[49m\u001b[43m,\u001b[49m\n\u001b[32m    169\u001b[39m \u001b[43m    \u001b[49m\u001b[43m*\u001b[49m\u001b[43m*\u001b[49m\u001b[38;5;28;43mself\u001b[39;49m\u001b[43m.\u001b[49m\u001b[43m_kwargs\u001b[49m\u001b[43m,\u001b[49m\n\u001b[32m    170\u001b[39m \u001b[43m\u001b[49m\u001b[43m)\u001b[49m\n\u001b[32m    171\u001b[39m \u001b[38;5;28;01mif\u001b[39;00m swapped_deprecated_args:\n\u001b[32m    172\u001b[39m     \u001b[38;5;28mself\u001b[39m._options[\u001b[33m\"\u001b[39m\u001b[33mmaxiter\u001b[39m\u001b[33m\"\u001b[39m] = \u001b[38;5;28mself\u001b[39m._options.pop(\u001b[33m\"\u001b[39m\u001b[33mmaxfun\u001b[39m\u001b[33m\"\u001b[39m)\n",
      "\u001b[36mFile \u001b[39m\u001b[32m~\\AppData\\Roaming\\Python\\Python313\\site-packages\\scipy\\optimize\\_minimize.py:744\u001b[39m, in \u001b[36mminimize\u001b[39m\u001b[34m(fun, x0, args, method, jac, hess, hessp, bounds, constraints, tol, callback, options)\u001b[39m\n\u001b[32m    741\u001b[39m     res = _minimize_tnc(fun, x0, args, jac, bounds, callback=callback,\n\u001b[32m    742\u001b[39m                         **options)\n\u001b[32m    743\u001b[39m \u001b[38;5;28;01melif\u001b[39;00m meth == \u001b[33m'\u001b[39m\u001b[33mcobyla\u001b[39m\u001b[33m'\u001b[39m:\n\u001b[32m--> \u001b[39m\u001b[32m744\u001b[39m     res = \u001b[43m_minimize_cobyla\u001b[49m\u001b[43m(\u001b[49m\u001b[43mfun\u001b[49m\u001b[43m,\u001b[49m\u001b[43m \u001b[49m\u001b[43mx0\u001b[49m\u001b[43m,\u001b[49m\u001b[43m \u001b[49m\u001b[43margs\u001b[49m\u001b[43m,\u001b[49m\u001b[43m \u001b[49m\u001b[43mconstraints\u001b[49m\u001b[43m,\u001b[49m\u001b[43m \u001b[49m\u001b[43mcallback\u001b[49m\u001b[43m=\u001b[49m\u001b[43mcallback\u001b[49m\u001b[43m,\u001b[49m\n\u001b[32m    745\u001b[39m \u001b[43m                           \u001b[49m\u001b[43mbounds\u001b[49m\u001b[43m=\u001b[49m\u001b[43mbounds\u001b[49m\u001b[43m,\u001b[49m\u001b[43m \u001b[49m\u001b[43m*\u001b[49m\u001b[43m*\u001b[49m\u001b[43moptions\u001b[49m\u001b[43m)\u001b[49m\n\u001b[32m    746\u001b[39m \u001b[38;5;28;01melif\u001b[39;00m meth == \u001b[33m'\u001b[39m\u001b[33mcobyqa\u001b[39m\u001b[33m'\u001b[39m:\n\u001b[32m    747\u001b[39m     res = _minimize_cobyqa(fun, x0, args, bounds, constraints, callback,\n\u001b[32m    748\u001b[39m                            **options)\n",
      "\u001b[36mFile \u001b[39m\u001b[32m~\\AppData\\Roaming\\Python\\Python313\\site-packages\\scipy\\optimize\\_cobyla_py.py:35\u001b[39m, in \u001b[36msynchronized.<locals>.wrapper\u001b[39m\u001b[34m(*args, **kwargs)\u001b[39m\n\u001b[32m     32\u001b[39m \u001b[38;5;129m@functools\u001b[39m.wraps(func)\n\u001b[32m     33\u001b[39m \u001b[38;5;28;01mdef\u001b[39;00m\u001b[38;5;250m \u001b[39m\u001b[34mwrapper\u001b[39m(*args, **kwargs):\n\u001b[32m     34\u001b[39m     \u001b[38;5;28;01mwith\u001b[39;00m _module_lock:\n\u001b[32m---> \u001b[39m\u001b[32m35\u001b[39m         \u001b[38;5;28;01mreturn\u001b[39;00m \u001b[43mfunc\u001b[49m\u001b[43m(\u001b[49m\u001b[43m*\u001b[49m\u001b[43margs\u001b[49m\u001b[43m,\u001b[49m\u001b[43m \u001b[49m\u001b[43m*\u001b[49m\u001b[43m*\u001b[49m\u001b[43mkwargs\u001b[49m\u001b[43m)\u001b[49m\n",
      "\u001b[36mFile \u001b[39m\u001b[32m~\\AppData\\Roaming\\Python\\Python313\\site-packages\\scipy\\optimize\\_cobyla_py.py:278\u001b[39m, in \u001b[36m_minimize_cobyla\u001b[39m\u001b[34m(fun, x0, args, constraints, rhobeg, tol, maxiter, disp, catol, callback, bounds, **unknown_options)\u001b[39m\n\u001b[32m    275\u001b[39m \u001b[38;5;28;01mdef\u001b[39;00m\u001b[38;5;250m \u001b[39m\u001b[34m_jac\u001b[39m(x, *args):\n\u001b[32m    276\u001b[39m     \u001b[38;5;28;01mreturn\u001b[39;00m \u001b[38;5;28;01mNone\u001b[39;00m\n\u001b[32m--> \u001b[39m\u001b[32m278\u001b[39m sf = \u001b[43m_prepare_scalar_function\u001b[49m\u001b[43m(\u001b[49m\u001b[43mfun\u001b[49m\u001b[43m,\u001b[49m\u001b[43m \u001b[49m\u001b[43mx0\u001b[49m\u001b[43m,\u001b[49m\u001b[43m \u001b[49m\u001b[43margs\u001b[49m\u001b[43m=\u001b[49m\u001b[43margs\u001b[49m\u001b[43m,\u001b[49m\u001b[43m \u001b[49m\u001b[43mjac\u001b[49m\u001b[43m=\u001b[49m\u001b[43m_jac\u001b[49m\u001b[43m)\u001b[49m\n\u001b[32m    280\u001b[39m \u001b[38;5;28;01mdef\u001b[39;00m\u001b[38;5;250m \u001b[39m\u001b[34mcalcfc\u001b[39m(x, con):\n\u001b[32m    281\u001b[39m     f = sf.fun(x)\n",
      "\u001b[36mFile \u001b[39m\u001b[32m~\\AppData\\Roaming\\Python\\Python313\\site-packages\\scipy\\optimize\\_optimize.py:291\u001b[39m, in \u001b[36m_prepare_scalar_function\u001b[39m\u001b[34m(fun, x0, jac, args, bounds, epsilon, finite_diff_rel_step, hess)\u001b[39m\n\u001b[32m    287\u001b[39m     bounds = (-np.inf, np.inf)\n\u001b[32m    289\u001b[39m \u001b[38;5;66;03m# ScalarFunction caches. Reuse of fun(x) during grad\u001b[39;00m\n\u001b[32m    290\u001b[39m \u001b[38;5;66;03m# calculation reduces overall function evaluations.\u001b[39;00m\n\u001b[32m--> \u001b[39m\u001b[32m291\u001b[39m sf = \u001b[43mScalarFunction\u001b[49m\u001b[43m(\u001b[49m\u001b[43mfun\u001b[49m\u001b[43m,\u001b[49m\u001b[43m \u001b[49m\u001b[43mx0\u001b[49m\u001b[43m,\u001b[49m\u001b[43m \u001b[49m\u001b[43margs\u001b[49m\u001b[43m,\u001b[49m\u001b[43m \u001b[49m\u001b[43mgrad\u001b[49m\u001b[43m,\u001b[49m\u001b[43m \u001b[49m\u001b[43mhess\u001b[49m\u001b[43m,\u001b[49m\n\u001b[32m    292\u001b[39m \u001b[43m                    \u001b[49m\u001b[43mfinite_diff_rel_step\u001b[49m\u001b[43m,\u001b[49m\u001b[43m \u001b[49m\u001b[43mbounds\u001b[49m\u001b[43m,\u001b[49m\u001b[43m \u001b[49m\u001b[43mepsilon\u001b[49m\u001b[43m=\u001b[49m\u001b[43mepsilon\u001b[49m\u001b[43m)\u001b[49m\n\u001b[32m    294\u001b[39m \u001b[38;5;28;01mreturn\u001b[39;00m sf\n",
      "\u001b[36mFile \u001b[39m\u001b[32m~\\AppData\\Roaming\\Python\\Python313\\site-packages\\scipy\\optimize\\_differentiable_functions.py:223\u001b[39m, in \u001b[36mScalarFunction.__init__\u001b[39m\u001b[34m(self, fun, x0, args, grad, hess, finite_diff_rel_step, finite_diff_bounds, epsilon)\u001b[39m\n\u001b[32m    220\u001b[39m     finite_diff_options[\u001b[33m\"\u001b[39m\u001b[33mas_linear_operator\u001b[39m\u001b[33m\"\u001b[39m] = \u001b[38;5;28;01mTrue\u001b[39;00m\n\u001b[32m    222\u001b[39m \u001b[38;5;66;03m# Initial function evaluation\u001b[39;00m\n\u001b[32m--> \u001b[39m\u001b[32m223\u001b[39m \u001b[38;5;28;43mself\u001b[39;49m\u001b[43m.\u001b[49m\u001b[43m_update_fun\u001b[49m\u001b[43m(\u001b[49m\u001b[43m)\u001b[49m\n\u001b[32m    225\u001b[39m \u001b[38;5;66;03m# Initial gradient evaluation\u001b[39;00m\n\u001b[32m    226\u001b[39m \u001b[38;5;28mself\u001b[39m._wrapped_grad, \u001b[38;5;28mself\u001b[39m._ngev = _wrapper_grad(\n\u001b[32m    227\u001b[39m     grad,\n\u001b[32m    228\u001b[39m     fun=\u001b[38;5;28mself\u001b[39m._wrapped_fun,\n\u001b[32m    229\u001b[39m     args=args,\n\u001b[32m    230\u001b[39m     finite_diff_options=finite_diff_options\n\u001b[32m    231\u001b[39m )\n",
      "\u001b[36mFile \u001b[39m\u001b[32m~\\AppData\\Roaming\\Python\\Python313\\site-packages\\scipy\\optimize\\_differentiable_functions.py:295\u001b[39m, in \u001b[36mScalarFunction._update_fun\u001b[39m\u001b[34m(self)\u001b[39m\n\u001b[32m    293\u001b[39m \u001b[38;5;28;01mdef\u001b[39;00m\u001b[38;5;250m \u001b[39m\u001b[34m_update_fun\u001b[39m(\u001b[38;5;28mself\u001b[39m):\n\u001b[32m    294\u001b[39m     \u001b[38;5;28;01mif\u001b[39;00m \u001b[38;5;129;01mnot\u001b[39;00m \u001b[38;5;28mself\u001b[39m.f_updated:\n\u001b[32m--> \u001b[39m\u001b[32m295\u001b[39m         fx = \u001b[38;5;28;43mself\u001b[39;49m\u001b[43m.\u001b[49m\u001b[43m_wrapped_fun\u001b[49m\u001b[43m(\u001b[49m\u001b[38;5;28;43mself\u001b[39;49m\u001b[43m.\u001b[49m\u001b[43mx\u001b[49m\u001b[43m)\u001b[49m\n\u001b[32m    296\u001b[39m         \u001b[38;5;28;01mif\u001b[39;00m fx < \u001b[38;5;28mself\u001b[39m._lowest_f:\n\u001b[32m    297\u001b[39m             \u001b[38;5;28mself\u001b[39m._lowest_x = \u001b[38;5;28mself\u001b[39m.x\n",
      "\u001b[36mFile \u001b[39m\u001b[32m~\\AppData\\Roaming\\Python\\Python313\\site-packages\\scipy\\optimize\\_differentiable_functions.py:21\u001b[39m, in \u001b[36m_wrapper_fun.<locals>.wrapped\u001b[39m\u001b[34m(x)\u001b[39m\n\u001b[32m     17\u001b[39m ncalls[\u001b[32m0\u001b[39m] += \u001b[32m1\u001b[39m\n\u001b[32m     18\u001b[39m \u001b[38;5;66;03m# Send a copy because the user may overwrite it.\u001b[39;00m\n\u001b[32m     19\u001b[39m \u001b[38;5;66;03m# Overwriting results in undefined behaviour because\u001b[39;00m\n\u001b[32m     20\u001b[39m \u001b[38;5;66;03m# fun(self.x) will change self.x, with the two no longer linked.\u001b[39;00m\n\u001b[32m---> \u001b[39m\u001b[32m21\u001b[39m fx = \u001b[43mfun\u001b[49m\u001b[43m(\u001b[49m\u001b[43mnp\u001b[49m\u001b[43m.\u001b[49m\u001b[43mcopy\u001b[49m\u001b[43m(\u001b[49m\u001b[43mx\u001b[49m\u001b[43m)\u001b[49m\u001b[43m,\u001b[49m\u001b[43m \u001b[49m\u001b[43m*\u001b[49m\u001b[43margs\u001b[49m\u001b[43m)\u001b[49m\n\u001b[32m     22\u001b[39m \u001b[38;5;66;03m# Make sure the function returns a true scalar\u001b[39;00m\n\u001b[32m     23\u001b[39m \u001b[38;5;28;01mif\u001b[39;00m \u001b[38;5;129;01mnot\u001b[39;00m np.isscalar(fx):\n",
      "\u001b[36mFile \u001b[39m\u001b[32mc:\\Users\\tayin\\.conda\\envs\\cwq\\Lib\\site-packages\\qiskit_optimization\\minimum_eigensolvers\\sampling_vqe.py:350\u001b[39m, in \u001b[36mSamplingVQE._get_evaluate_energy.<locals>.evaluate_energy\u001b[39m\u001b[34m(parameters)\u001b[39m\n\u001b[32m    345\u001b[39m parameters = np.reshape(parameters, (-\u001b[32m1\u001b[39m, num_parameters)).tolist()\n\u001b[32m    346\u001b[39m batch_size = \u001b[38;5;28mlen\u001b[39m(parameters)\n\u001b[32m    348\u001b[39m estimator_result = \u001b[43mestimator\u001b[49m\u001b[43m.\u001b[49m\u001b[43mrun\u001b[49m\u001b[43m(\u001b[49m\n\u001b[32m    349\u001b[39m \u001b[43m    \u001b[49m\u001b[43mbatch_size\u001b[49m\u001b[43m \u001b[49m\u001b[43m*\u001b[49m\u001b[43m \u001b[49m\u001b[43m[\u001b[49m\u001b[43mansatz\u001b[49m\u001b[43m]\u001b[49m\u001b[43m,\u001b[49m\u001b[43m \u001b[49m\u001b[43mbatch_size\u001b[49m\u001b[43m \u001b[49m\u001b[43m*\u001b[49m\u001b[43m \u001b[49m\u001b[43m[\u001b[49m\u001b[43moperator\u001b[49m\u001b[43m]\u001b[49m\u001b[43m,\u001b[49m\u001b[43m \u001b[49m\u001b[43mparameters\u001b[49m\n\u001b[32m--> \u001b[39m\u001b[32m350\u001b[39m \u001b[43m\u001b[49m\u001b[43m)\u001b[49m\u001b[43m.\u001b[49m\u001b[43mresult\u001b[49m\u001b[43m(\u001b[49m\u001b[43m)\u001b[49m\n\u001b[32m    351\u001b[39m values = estimator_result.values\n\u001b[32m    353\u001b[39m \u001b[38;5;28;01mif\u001b[39;00m \u001b[38;5;28mself\u001b[39m.callback \u001b[38;5;129;01mis\u001b[39;00m \u001b[38;5;129;01mnot\u001b[39;00m \u001b[38;5;28;01mNone\u001b[39;00m:\n",
      "\u001b[36mFile \u001b[39m\u001b[32mc:\\Users\\tayin\\.conda\\envs\\cwq\\Lib\\site-packages\\qiskit\\primitives\\primitive_job.py:65\u001b[39m, in \u001b[36mPrimitiveJob.result\u001b[39m\u001b[34m(self)\u001b[39m\n\u001b[32m     63\u001b[39m \u001b[38;5;28;01mif\u001b[39;00m \u001b[38;5;28mself\u001b[39m._result \u001b[38;5;129;01mis\u001b[39;00m \u001b[38;5;28;01mNone\u001b[39;00m:\n\u001b[32m     64\u001b[39m     \u001b[38;5;28mself\u001b[39m._check_submitted()\n\u001b[32m---> \u001b[39m\u001b[32m65\u001b[39m     \u001b[38;5;28mself\u001b[39m._result = \u001b[38;5;28;43mself\u001b[39;49m\u001b[43m.\u001b[49m\u001b[43m_future\u001b[49m\u001b[43m.\u001b[49m\u001b[43mresult\u001b[49m\u001b[43m(\u001b[49m\u001b[43m)\u001b[49m\n\u001b[32m     66\u001b[39m \u001b[38;5;28;01mreturn\u001b[39;00m \u001b[38;5;28mself\u001b[39m._result\n",
      "\u001b[36mFile \u001b[39m\u001b[32mc:\\Users\\tayin\\.conda\\envs\\cwq\\Lib\\concurrent\\futures\\_base.py:449\u001b[39m, in \u001b[36mFuture.result\u001b[39m\u001b[34m(self, timeout)\u001b[39m\n\u001b[32m    447\u001b[39m     \u001b[38;5;28;01mraise\u001b[39;00m CancelledError()\n\u001b[32m    448\u001b[39m \u001b[38;5;28;01melif\u001b[39;00m \u001b[38;5;28mself\u001b[39m._state == FINISHED:\n\u001b[32m--> \u001b[39m\u001b[32m449\u001b[39m     \u001b[38;5;28;01mreturn\u001b[39;00m \u001b[38;5;28;43mself\u001b[39;49m\u001b[43m.\u001b[49m\u001b[43m__get_result\u001b[49m\u001b[43m(\u001b[49m\u001b[43m)\u001b[49m\n\u001b[32m    451\u001b[39m \u001b[38;5;28mself\u001b[39m._condition.wait(timeout)\n\u001b[32m    453\u001b[39m \u001b[38;5;28;01mif\u001b[39;00m \u001b[38;5;28mself\u001b[39m._state \u001b[38;5;129;01min\u001b[39;00m [CANCELLED, CANCELLED_AND_NOTIFIED]:\n",
      "\u001b[36mFile \u001b[39m\u001b[32mc:\\Users\\tayin\\.conda\\envs\\cwq\\Lib\\concurrent\\futures\\_base.py:401\u001b[39m, in \u001b[36mFuture.__get_result\u001b[39m\u001b[34m(self)\u001b[39m\n\u001b[32m    399\u001b[39m \u001b[38;5;28;01mif\u001b[39;00m \u001b[38;5;28mself\u001b[39m._exception \u001b[38;5;129;01mis\u001b[39;00m \u001b[38;5;129;01mnot\u001b[39;00m \u001b[38;5;28;01mNone\u001b[39;00m:\n\u001b[32m    400\u001b[39m     \u001b[38;5;28;01mtry\u001b[39;00m:\n\u001b[32m--> \u001b[39m\u001b[32m401\u001b[39m         \u001b[38;5;28;01mraise\u001b[39;00m \u001b[38;5;28mself\u001b[39m._exception\n\u001b[32m    402\u001b[39m     \u001b[38;5;28;01mfinally\u001b[39;00m:\n\u001b[32m    403\u001b[39m         \u001b[38;5;66;03m# Break a reference cycle with the exception in self._exception\u001b[39;00m\n\u001b[32m    404\u001b[39m         \u001b[38;5;28mself\u001b[39m = \u001b[38;5;28;01mNone\u001b[39;00m\n",
      "\u001b[36mFile \u001b[39m\u001b[32mc:\\Users\\tayin\\.conda\\envs\\cwq\\Lib\\concurrent\\futures\\thread.py:59\u001b[39m, in \u001b[36m_WorkItem.run\u001b[39m\u001b[34m(self)\u001b[39m\n\u001b[32m     56\u001b[39m     \u001b[38;5;28;01mreturn\u001b[39;00m\n\u001b[32m     58\u001b[39m \u001b[38;5;28;01mtry\u001b[39;00m:\n\u001b[32m---> \u001b[39m\u001b[32m59\u001b[39m     result = \u001b[38;5;28;43mself\u001b[39;49m\u001b[43m.\u001b[49m\u001b[43mfn\u001b[49m\u001b[43m(\u001b[49m\u001b[43m*\u001b[49m\u001b[38;5;28;43mself\u001b[39;49m\u001b[43m.\u001b[49m\u001b[43margs\u001b[49m\u001b[43m,\u001b[49m\u001b[43m \u001b[49m\u001b[43m*\u001b[49m\u001b[43m*\u001b[49m\u001b[38;5;28;43mself\u001b[39;49m\u001b[43m.\u001b[49m\u001b[43mkwargs\u001b[49m\u001b[43m)\u001b[49m\n\u001b[32m     60\u001b[39m \u001b[38;5;28;01mexcept\u001b[39;00m \u001b[38;5;167;01mBaseException\u001b[39;00m \u001b[38;5;28;01mas\u001b[39;00m exc:\n\u001b[32m     61\u001b[39m     \u001b[38;5;28mself\u001b[39m.future.set_exception(exc)\n",
      "\u001b[36mFile \u001b[39m\u001b[32mc:\\Users\\tayin\\.conda\\envs\\cwq\\Lib\\site-packages\\qiskit_optimization\\minimum_eigensolvers\\diagonal_estimator.py:136\u001b[39m, in \u001b[36m_DiagonalEstimator._call\u001b[39m\u001b[34m(self, circuits, observables, parameter_values, **run_options)\u001b[39m\n\u001b[32m    134\u001b[39m     samples = sampler_result.quasi_dists\n\u001b[32m    135\u001b[39m \u001b[38;5;28;01melse\u001b[39;00m:  \u001b[38;5;66;03m# BaseSamplerV2\u001b[39;00m\n\u001b[32m--> \u001b[39m\u001b[32m136\u001b[39m     job = \u001b[38;5;28;43mself\u001b[39;49m\u001b[43m.\u001b[49m\u001b[43msampler\u001b[49m\u001b[43m.\u001b[49m\u001b[43mrun\u001b[49m\u001b[43m(\u001b[49m\n\u001b[32m    137\u001b[39m \u001b[43m        \u001b[49m\u001b[43m[\u001b[49m\u001b[43m(\u001b[49m\u001b[38;5;28;43mself\u001b[39;49m\u001b[43m.\u001b[49m\u001b[43m_circuits\u001b[49m\u001b[43m[\u001b[49m\u001b[43mi\u001b[49m\u001b[43m]\u001b[49m\u001b[43m,\u001b[49m\u001b[43m \u001b[49m\u001b[43mval\u001b[49m\u001b[43m)\u001b[49m\u001b[43m \u001b[49m\u001b[38;5;28;43;01mfor\u001b[39;49;00m\u001b[43m \u001b[49m\u001b[43mi\u001b[49m\u001b[43m,\u001b[49m\u001b[43m \u001b[49m\u001b[43mval\u001b[49m\u001b[43m \u001b[49m\u001b[38;5;129;43;01min\u001b[39;49;00m\u001b[43m \u001b[49m\u001b[38;5;28;43mzip\u001b[39;49m\u001b[43m(\u001b[49m\u001b[43mcircuits\u001b[49m\u001b[43m,\u001b[49m\u001b[43m \u001b[49m\u001b[43mparameter_values\u001b[49m\u001b[43m)\u001b[49m\u001b[43m]\u001b[49m\u001b[43m,\u001b[49m\n\u001b[32m    138\u001b[39m \u001b[43m        \u001b[49m\u001b[43m*\u001b[49m\u001b[43m*\u001b[49m\u001b[43mrun_options\u001b[49m\u001b[43m,\u001b[49m\n\u001b[32m    139\u001b[39m \u001b[43m    \u001b[49m\u001b[43m)\u001b[49m\n\u001b[32m    140\u001b[39m     sampler_pub_result = job.result()\n\u001b[32m    141\u001b[39m     metadata = []\n",
      "\u001b[36mFile \u001b[39m\u001b[32mc:\\Users\\tayin\\.conda\\envs\\cwq\\Lib\\site-packages\\qiskit_ibm_runtime\\sampler.py:111\u001b[39m, in \u001b[36mSamplerV2.run\u001b[39m\u001b[34m(self, pubs, shots)\u001b[39m\n\u001b[32m    107\u001b[39m coerced_pubs = [SamplerPub.coerce(pub, shots) \u001b[38;5;28;01mfor\u001b[39;00m pub \u001b[38;5;129;01min\u001b[39;00m pubs]\n\u001b[32m    109\u001b[39m validate_classical_registers(coerced_pubs)\n\u001b[32m--> \u001b[39m\u001b[32m111\u001b[39m \u001b[38;5;28;01mreturn\u001b[39;00m \u001b[38;5;28;43mself\u001b[39;49m\u001b[43m.\u001b[49m\u001b[43m_run\u001b[49m\u001b[43m(\u001b[49m\u001b[43mcoerced_pubs\u001b[49m\u001b[43m)\u001b[49m\n",
      "\u001b[36mFile \u001b[39m\u001b[32mc:\\Users\\tayin\\.conda\\envs\\cwq\\Lib\\site-packages\\qiskit_ibm_runtime\\base_primitive.py:146\u001b[39m, in \u001b[36mBasePrimitiveV2._run\u001b[39m\u001b[34m(self, pubs)\u001b[39m\n\u001b[32m    144\u001b[39m \u001b[38;5;28;01mif\u001b[39;00m \u001b[38;5;28mself\u001b[39m._backend:\n\u001b[32m    145\u001b[39m     \u001b[38;5;28;01mif\u001b[39;00m \u001b[38;5;129;01mnot\u001b[39;00m is_simulator(\u001b[38;5;28mself\u001b[39m._backend):\n\u001b[32m--> \u001b[39m\u001b[32m146\u001b[39m         \u001b[43mvalidate_rzz_pubs\u001b[49m\u001b[43m(\u001b[49m\u001b[43mpubs\u001b[49m\u001b[43m)\u001b[49m\n\u001b[32m    147\u001b[39m     \u001b[38;5;28;01mfor\u001b[39;00m pub \u001b[38;5;129;01min\u001b[39;00m pubs:\n\u001b[32m    148\u001b[39m         \u001b[38;5;28;01mif\u001b[39;00m \u001b[38;5;28mgetattr\u001b[39m(\u001b[38;5;28mself\u001b[39m._backend, \u001b[33m\"\u001b[39m\u001b[33mtarget\u001b[39m\u001b[33m\"\u001b[39m, \u001b[38;5;28;01mNone\u001b[39;00m) \u001b[38;5;129;01mand\u001b[39;00m \u001b[38;5;129;01mnot\u001b[39;00m is_simulator(\u001b[38;5;28mself\u001b[39m._backend):\n",
      "\u001b[36mFile \u001b[39m\u001b[32mc:\\Users\\tayin\\.conda\\envs\\cwq\\Lib\\site-packages\\qiskit_ibm_runtime\\utils\\validations.py:116\u001b[39m, in \u001b[36mvalidate_rzz_pubs\u001b[39m\u001b[34m(pubs)\u001b[39m\n\u001b[32m    114\u001b[39m message = is_valid_rzz_pub(pub)\n\u001b[32m    115\u001b[39m \u001b[38;5;28;01mif\u001b[39;00m message:\n\u001b[32m--> \u001b[39m\u001b[32m116\u001b[39m     \u001b[38;5;28;01mraise\u001b[39;00m IBMInputValueError(message)\n",
      "\u001b[31mIBMInputValueError\u001b[39m: 'The instruction rzz is supported only for angles in the range [0, pi/2], but an angle (3583.6626513130313) outside of this range has been requested; via parameter value(s) γ[0]=5.89418199229117, substituted in parameter expression 608*γ[0].'"
     ]
    }
   ],
   "source": []
  },
  {
   "cell_type": "code",
   "execution_count": 22,
   "id": "7de9893f",
   "metadata": {},
   "outputs": [
    {
     "data": {
      "text/plain": [
       "{'default-ibm-cloud': {'channel': 'ibm_cloud',\n",
       "  'url': 'https://cloud.ibm.com',\n",
       "  'token': '0OVe_qXjNb8l7DBhGIr5kZsnHslVTBZF0xkmpaK-EjGu',\n",
       "  'instance': 'crn:v1:bluemix:public:quantum-computing:us-east:a/15524aa98e0a4443b31d10fcc66c85b7:2b6de007-6ec0-499d-b370-361e9f0b70c4::',\n",
       "  'verify': True,\n",
       "  'private_endpoint': False}}"
      ]
     },
     "execution_count": 22,
     "metadata": {},
     "output_type": "execute_result"
    }
   ],
   "source": [
    "service = QiskitRuntimeService()\n",
    "service.saved_accounts()"
   ]
  },
  {
   "cell_type": "code",
   "execution_count": 38,
   "id": "417b40a4",
   "metadata": {},
   "outputs": [
    {
     "data": {
      "text/plain": [
       "[<IBMBackend('ibm_brisbane')>, <IBMBackend('ibm_torino')>]"
      ]
     },
     "execution_count": 38,
     "metadata": {},
     "output_type": "execute_result"
    }
   ],
   "source": [
    "service.backends()"
   ]
  }
 ],
 "metadata": {
  "kernelspec": {
   "display_name": "cwq",
   "language": "python",
   "name": "python3"
  },
  "language_info": {
   "codemirror_mode": {
    "name": "ipython",
    "version": 3
   },
   "file_extension": ".py",
   "mimetype": "text/x-python",
   "name": "python",
   "nbconvert_exporter": "python",
   "pygments_lexer": "ipython3",
   "version": "3.13.7"
  }
 },
 "nbformat": 4,
 "nbformat_minor": 5
}
